{
  "nbformat": 4,
  "nbformat_minor": 0,
  "metadata": {
    "colab": {
      "name": "BestModel1.ipynb",
      "provenance": [],
      "collapsed_sections": [],
      "authorship_tag": "ABX9TyOKjFY35rg9XpexWUAoWnsk",
      "include_colab_link": true
    },
    "kernelspec": {
      "name": "python3",
      "display_name": "Python 3"
    },
    "language_info": {
      "name": "python"
    },
    "accelerator": "GPU"
  },
  "cells": [
    {
      "cell_type": "markdown",
      "metadata": {
        "id": "view-in-github",
        "colab_type": "text"
      },
      "source": [
        "<a href=\"https://colab.research.google.com/github/NITIN0210/sampleP/blob/master/BestModel2.ipynb\" target=\"_parent\"><img src=\"https://colab.research.google.com/assets/colab-badge.svg\" alt=\"Open In Colab\"/></a>"
      ]
    },
    {
      "cell_type": "code",
      "execution_count": 20,
      "metadata": {
        "id": "eB8XVVqRlYyQ"
      },
      "outputs": [],
      "source": [
        "import matplotlib.pyplot as plt\n",
        "import numpy as np\n",
        "import pandas as pd\n",
        "import seaborn as sns\n",
        "import os\n",
        "\n",
        "# Importing Deep Learning Libraries\n",
        "\n",
        "from keras.preprocessing.image import load_img, img_to_array\n",
        "from keras.preprocessing.image import ImageDataGenerator\n",
        "from keras.layers import Dense,Input,Dropout,GlobalAveragePooling2D,Flatten,Conv2D,BatchNormalization,Activation,MaxPooling2D\n",
        "from keras.models import Model,Sequential\n",
        "from keras.regularizers import l2\n",
        "from tensorflow.keras.optimizers import Adam,SGD,RMSprop\n",
        "\n",
        "from sklearn.metrics import classification_report, confusion_matrix, ConfusionMatrixDisplay, accuracy_score, balanced_accuracy_score, classification_report\n",
        "\n",
        "import tensorflow as tf\n",
        "import keras\n",
        "import cv2\n",
        "from skimage.io import imread\n",
        "\n",
        "import numpy as np\n",
        "from keras.preprocessing.image import array_to_img\n",
        "from PIL import Image as ima"
      ]
    },
    {
      "cell_type": "code",
      "source": [
        "from google.colab import files\n",
        "files.upload()"
      ],
      "metadata": {
        "colab": {
          "resources": {
            "http://localhost:8080/nbextensions/google.colab/files.js": {
              "data": "Ly8gQ29weXJpZ2h0IDIwMTcgR29vZ2xlIExMQwovLwovLyBMaWNlbnNlZCB1bmRlciB0aGUgQXBhY2hlIExpY2Vuc2UsIFZlcnNpb24gMi4wICh0aGUgIkxpY2Vuc2UiKTsKLy8geW91IG1heSBub3QgdXNlIHRoaXMgZmlsZSBleGNlcHQgaW4gY29tcGxpYW5jZSB3aXRoIHRoZSBMaWNlbnNlLgovLyBZb3UgbWF5IG9idGFpbiBhIGNvcHkgb2YgdGhlIExpY2Vuc2UgYXQKLy8KLy8gICAgICBodHRwOi8vd3d3LmFwYWNoZS5vcmcvbGljZW5zZXMvTElDRU5TRS0yLjAKLy8KLy8gVW5sZXNzIHJlcXVpcmVkIGJ5IGFwcGxpY2FibGUgbGF3IG9yIGFncmVlZCB0byBpbiB3cml0aW5nLCBzb2Z0d2FyZQovLyBkaXN0cmlidXRlZCB1bmRlciB0aGUgTGljZW5zZSBpcyBkaXN0cmlidXRlZCBvbiBhbiAiQVMgSVMiIEJBU0lTLAovLyBXSVRIT1VUIFdBUlJBTlRJRVMgT1IgQ09ORElUSU9OUyBPRiBBTlkgS0lORCwgZWl0aGVyIGV4cHJlc3Mgb3IgaW1wbGllZC4KLy8gU2VlIHRoZSBMaWNlbnNlIGZvciB0aGUgc3BlY2lmaWMgbGFuZ3VhZ2UgZ292ZXJuaW5nIHBlcm1pc3Npb25zIGFuZAovLyBsaW1pdGF0aW9ucyB1bmRlciB0aGUgTGljZW5zZS4KCi8qKgogKiBAZmlsZW92ZXJ2aWV3IEhlbHBlcnMgZm9yIGdvb2dsZS5jb2xhYiBQeXRob24gbW9kdWxlLgogKi8KKGZ1bmN0aW9uKHNjb3BlKSB7CmZ1bmN0aW9uIHNwYW4odGV4dCwgc3R5bGVBdHRyaWJ1dGVzID0ge30pIHsKICBjb25zdCBlbGVtZW50ID0gZG9jdW1lbnQuY3JlYXRlRWxlbWVudCgnc3BhbicpOwogIGVsZW1lbnQudGV4dENvbnRlbnQgPSB0ZXh0OwogIGZvciAoY29uc3Qga2V5IG9mIE9iamVjdC5rZXlzKHN0eWxlQXR0cmlidXRlcykpIHsKICAgIGVsZW1lbnQuc3R5bGVba2V5XSA9IHN0eWxlQXR0cmlidXRlc1trZXldOwogIH0KICByZXR1cm4gZWxlbWVudDsKfQoKLy8gTWF4IG51bWJlciBvZiBieXRlcyB3aGljaCB3aWxsIGJlIHVwbG9hZGVkIGF0IGEgdGltZS4KY29uc3QgTUFYX1BBWUxPQURfU0laRSA9IDEwMCAqIDEwMjQ7CgpmdW5jdGlvbiBfdXBsb2FkRmlsZXMoaW5wdXRJZCwgb3V0cHV0SWQpIHsKICBjb25zdCBzdGVwcyA9IHVwbG9hZEZpbGVzU3RlcChpbnB1dElkLCBvdXRwdXRJZCk7CiAgY29uc3Qgb3V0cHV0RWxlbWVudCA9IGRvY3VtZW50LmdldEVsZW1lbnRCeUlkKG91dHB1dElkKTsKICAvLyBDYWNoZSBzdGVwcyBvbiB0aGUgb3V0cHV0RWxlbWVudCB0byBtYWtlIGl0IGF2YWlsYWJsZSBmb3IgdGhlIG5leHQgY2FsbAogIC8vIHRvIHVwbG9hZEZpbGVzQ29udGludWUgZnJvbSBQeXRob24uCiAgb3V0cHV0RWxlbWVudC5zdGVwcyA9IHN0ZXBzOwoKICByZXR1cm4gX3VwbG9hZEZpbGVzQ29udGludWUob3V0cHV0SWQpOwp9CgovLyBUaGlzIGlzIHJvdWdobHkgYW4gYXN5bmMgZ2VuZXJhdG9yIChub3Qgc3VwcG9ydGVkIGluIHRoZSBicm93c2VyIHlldCksCi8vIHdoZXJlIHRoZXJlIGFyZSBtdWx0aXBsZSBhc3luY2hyb25vdXMgc3RlcHMgYW5kIHRoZSBQeXRob24gc2lkZSBpcyBnb2luZwovLyB0byBwb2xsIGZvciBjb21wbGV0aW9uIG9mIGVhY2ggc3RlcC4KLy8gVGhpcyB1c2VzIGEgUHJvbWlzZSB0byBibG9jayB0aGUgcHl0aG9uIHNpZGUgb24gY29tcGxldGlvbiBvZiBlYWNoIHN0ZXAsCi8vIHRoZW4gcGFzc2VzIHRoZSByZXN1bHQgb2YgdGhlIHByZXZpb3VzIHN0ZXAgYXMgdGhlIGlucHV0IHRvIHRoZSBuZXh0IHN0ZXAuCmZ1bmN0aW9uIF91cGxvYWRGaWxlc0NvbnRpbnVlKG91dHB1dElkKSB7CiAgY29uc3Qgb3V0cHV0RWxlbWVudCA9IGRvY3VtZW50LmdldEVsZW1lbnRCeUlkKG91dHB1dElkKTsKICBjb25zdCBzdGVwcyA9IG91dHB1dEVsZW1lbnQuc3RlcHM7CgogIGNvbnN0IG5leHQgPSBzdGVwcy5uZXh0KG91dHB1dEVsZW1lbnQubGFzdFByb21pc2VWYWx1ZSk7CiAgcmV0dXJuIFByb21pc2UucmVzb2x2ZShuZXh0LnZhbHVlLnByb21pc2UpLnRoZW4oKHZhbHVlKSA9PiB7CiAgICAvLyBDYWNoZSB0aGUgbGFzdCBwcm9taXNlIHZhbHVlIHRvIG1ha2UgaXQgYXZhaWxhYmxlIHRvIHRoZSBuZXh0CiAgICAvLyBzdGVwIG9mIHRoZSBnZW5lcmF0b3IuCiAgICBvdXRwdXRFbGVtZW50Lmxhc3RQcm9taXNlVmFsdWUgPSB2YWx1ZTsKICAgIHJldHVybiBuZXh0LnZhbHVlLnJlc3BvbnNlOwogIH0pOwp9CgovKioKICogR2VuZXJhdG9yIGZ1bmN0aW9uIHdoaWNoIGlzIGNhbGxlZCBiZXR3ZWVuIGVhY2ggYXN5bmMgc3RlcCBvZiB0aGUgdXBsb2FkCiAqIHByb2Nlc3MuCiAqIEBwYXJhbSB7c3RyaW5nfSBpbnB1dElkIEVsZW1lbnQgSUQgb2YgdGhlIGlucHV0IGZpbGUgcGlja2VyIGVsZW1lbnQuCiAqIEBwYXJhbSB7c3RyaW5nfSBvdXRwdXRJZCBFbGVtZW50IElEIG9mIHRoZSBvdXRwdXQgZGlzcGxheS4KICogQHJldHVybiB7IUl0ZXJhYmxlPCFPYmplY3Q+fSBJdGVyYWJsZSBvZiBuZXh0IHN0ZXBzLgogKi8KZnVuY3Rpb24qIHVwbG9hZEZpbGVzU3RlcChpbnB1dElkLCBvdXRwdXRJZCkgewogIGNvbnN0IGlucHV0RWxlbWVudCA9IGRvY3VtZW50LmdldEVsZW1lbnRCeUlkKGlucHV0SWQpOwogIGlucHV0RWxlbWVudC5kaXNhYmxlZCA9IGZhbHNlOwoKICBjb25zdCBvdXRwdXRFbGVtZW50ID0gZG9jdW1lbnQuZ2V0RWxlbWVudEJ5SWQob3V0cHV0SWQpOwogIG91dHB1dEVsZW1lbnQuaW5uZXJIVE1MID0gJyc7CgogIGNvbnN0IHBpY2tlZFByb21pc2UgPSBuZXcgUHJvbWlzZSgocmVzb2x2ZSkgPT4gewogICAgaW5wdXRFbGVtZW50LmFkZEV2ZW50TGlzdGVuZXIoJ2NoYW5nZScsIChlKSA9PiB7CiAgICAgIHJlc29sdmUoZS50YXJnZXQuZmlsZXMpOwogICAgfSk7CiAgfSk7CgogIGNvbnN0IGNhbmNlbCA9IGRvY3VtZW50LmNyZWF0ZUVsZW1lbnQoJ2J1dHRvbicpOwogIGlucHV0RWxlbWVudC5wYXJlbnRFbGVtZW50LmFwcGVuZENoaWxkKGNhbmNlbCk7CiAgY2FuY2VsLnRleHRDb250ZW50ID0gJ0NhbmNlbCB1cGxvYWQnOwogIGNvbnN0IGNhbmNlbFByb21pc2UgPSBuZXcgUHJvbWlzZSgocmVzb2x2ZSkgPT4gewogICAgY2FuY2VsLm9uY2xpY2sgPSAoKSA9PiB7CiAgICAgIHJlc29sdmUobnVsbCk7CiAgICB9OwogIH0pOwoKICAvLyBXYWl0IGZvciB0aGUgdXNlciB0byBwaWNrIHRoZSBmaWxlcy4KICBjb25zdCBmaWxlcyA9IHlpZWxkIHsKICAgIHByb21pc2U6IFByb21pc2UucmFjZShbcGlja2VkUHJvbWlzZSwgY2FuY2VsUHJvbWlzZV0pLAogICAgcmVzcG9uc2U6IHsKICAgICAgYWN0aW9uOiAnc3RhcnRpbmcnLAogICAgfQogIH07CgogIGNhbmNlbC5yZW1vdmUoKTsKCiAgLy8gRGlzYWJsZSB0aGUgaW5wdXQgZWxlbWVudCBzaW5jZSBmdXJ0aGVyIHBpY2tzIGFyZSBub3QgYWxsb3dlZC4KICBpbnB1dEVsZW1lbnQuZGlzYWJsZWQgPSB0cnVlOwoKICBpZiAoIWZpbGVzKSB7CiAgICByZXR1cm4gewogICAgICByZXNwb25zZTogewogICAgICAgIGFjdGlvbjogJ2NvbXBsZXRlJywKICAgICAgfQogICAgfTsKICB9CgogIGZvciAoY29uc3QgZmlsZSBvZiBmaWxlcykgewogICAgY29uc3QgbGkgPSBkb2N1bWVudC5jcmVhdGVFbGVtZW50KCdsaScpOwogICAgbGkuYXBwZW5kKHNwYW4oZmlsZS5uYW1lLCB7Zm9udFdlaWdodDogJ2JvbGQnfSkpOwogICAgbGkuYXBwZW5kKHNwYW4oCiAgICAgICAgYCgke2ZpbGUudHlwZSB8fCAnbi9hJ30pIC0gJHtmaWxlLnNpemV9IGJ5dGVzLCBgICsKICAgICAgICBgbGFzdCBtb2RpZmllZDogJHsKICAgICAgICAgICAgZmlsZS5sYXN0TW9kaWZpZWREYXRlID8gZmlsZS5sYXN0TW9kaWZpZWREYXRlLnRvTG9jYWxlRGF0ZVN0cmluZygpIDoKICAgICAgICAgICAgICAgICAgICAgICAgICAgICAgICAgICAgJ24vYSd9IC0gYCkpOwogICAgY29uc3QgcGVyY2VudCA9IHNwYW4oJzAlIGRvbmUnKTsKICAgIGxpLmFwcGVuZENoaWxkKHBlcmNlbnQpOwoKICAgIG91dHB1dEVsZW1lbnQuYXBwZW5kQ2hpbGQobGkpOwoKICAgIGNvbnN0IGZpbGVEYXRhUHJvbWlzZSA9IG5ldyBQcm9taXNlKChyZXNvbHZlKSA9PiB7CiAgICAgIGNvbnN0IHJlYWRlciA9IG5ldyBGaWxlUmVhZGVyKCk7CiAgICAgIHJlYWRlci5vbmxvYWQgPSAoZSkgPT4gewogICAgICAgIHJlc29sdmUoZS50YXJnZXQucmVzdWx0KTsKICAgICAgfTsKICAgICAgcmVhZGVyLnJlYWRBc0FycmF5QnVmZmVyKGZpbGUpOwogICAgfSk7CiAgICAvLyBXYWl0IGZvciB0aGUgZGF0YSB0byBiZSByZWFkeS4KICAgIGxldCBmaWxlRGF0YSA9IHlpZWxkIHsKICAgICAgcHJvbWlzZTogZmlsZURhdGFQcm9taXNlLAogICAgICByZXNwb25zZTogewogICAgICAgIGFjdGlvbjogJ2NvbnRpbnVlJywKICAgICAgfQogICAgfTsKCiAgICAvLyBVc2UgYSBjaHVua2VkIHNlbmRpbmcgdG8gYXZvaWQgbWVzc2FnZSBzaXplIGxpbWl0cy4gU2VlIGIvNjIxMTU2NjAuCiAgICBsZXQgcG9zaXRpb24gPSAwOwogICAgZG8gewogICAgICBjb25zdCBsZW5ndGggPSBNYXRoLm1pbihmaWxlRGF0YS5ieXRlTGVuZ3RoIC0gcG9zaXRpb24sIE1BWF9QQVlMT0FEX1NJWkUpOwogICAgICBjb25zdCBjaHVuayA9IG5ldyBVaW50OEFycmF5KGZpbGVEYXRhLCBwb3NpdGlvbiwgbGVuZ3RoKTsKICAgICAgcG9zaXRpb24gKz0gbGVuZ3RoOwoKICAgICAgY29uc3QgYmFzZTY0ID0gYnRvYShTdHJpbmcuZnJvbUNoYXJDb2RlLmFwcGx5KG51bGwsIGNodW5rKSk7CiAgICAgIHlpZWxkIHsKICAgICAgICByZXNwb25zZTogewogICAgICAgICAgYWN0aW9uOiAnYXBwZW5kJywKICAgICAgICAgIGZpbGU6IGZpbGUubmFtZSwKICAgICAgICAgIGRhdGE6IGJhc2U2NCwKICAgICAgICB9LAogICAgICB9OwoKICAgICAgbGV0IHBlcmNlbnREb25lID0gZmlsZURhdGEuYnl0ZUxlbmd0aCA9PT0gMCA/CiAgICAgICAgICAxMDAgOgogICAgICAgICAgTWF0aC5yb3VuZCgocG9zaXRpb24gLyBmaWxlRGF0YS5ieXRlTGVuZ3RoKSAqIDEwMCk7CiAgICAgIHBlcmNlbnQudGV4dENvbnRlbnQgPSBgJHtwZXJjZW50RG9uZX0lIGRvbmVgOwoKICAgIH0gd2hpbGUgKHBvc2l0aW9uIDwgZmlsZURhdGEuYnl0ZUxlbmd0aCk7CiAgfQoKICAvLyBBbGwgZG9uZS4KICB5aWVsZCB7CiAgICByZXNwb25zZTogewogICAgICBhY3Rpb246ICdjb21wbGV0ZScsCiAgICB9CiAgfTsKfQoKc2NvcGUuZ29vZ2xlID0gc2NvcGUuZ29vZ2xlIHx8IHt9OwpzY29wZS5nb29nbGUuY29sYWIgPSBzY29wZS5nb29nbGUuY29sYWIgfHwge307CnNjb3BlLmdvb2dsZS5jb2xhYi5fZmlsZXMgPSB7CiAgX3VwbG9hZEZpbGVzLAogIF91cGxvYWRGaWxlc0NvbnRpbnVlLAp9Owp9KShzZWxmKTsK",
              "ok": true,
              "headers": [
                [
                  "content-type",
                  "application/javascript"
                ]
              ],
              "status": 200,
              "status_text": ""
            }
          },
          "base_uri": "https://localhost:8080/",
          "height": 91
        },
        "id": "a7GMlD0Flck9",
        "outputId": "c2d81d2f-6d68-411e-8f30-059a0517c00d"
      },
      "execution_count": 2,
      "outputs": [
        {
          "output_type": "display_data",
          "data": {
            "text/plain": [
              "<IPython.core.display.HTML object>"
            ],
            "text/html": [
              "\n",
              "     <input type=\"file\" id=\"files-65bec740-786e-401d-a8f1-b75afba0e48a\" name=\"files[]\" multiple disabled\n",
              "        style=\"border:none\" />\n",
              "     <output id=\"result-65bec740-786e-401d-a8f1-b75afba0e48a\">\n",
              "      Upload widget is only available when the cell has been executed in the\n",
              "      current browser session. Please rerun this cell to enable.\n",
              "      </output>\n",
              "      <script src=\"/nbextensions/google.colab/files.js\"></script> "
            ]
          },
          "metadata": {}
        },
        {
          "output_type": "stream",
          "name": "stdout",
          "text": [
            "Saving kaggle.json to kaggle (1).json\n"
          ]
        },
        {
          "output_type": "execute_result",
          "data": {
            "text/plain": [
              "{'kaggle.json': b'{\"username\":\"nitin2k\",\"key\":\"f757bb15b1064ada9159e8226c9a7da7\"}'}"
            ]
          },
          "metadata": {},
          "execution_count": 2
        }
      ]
    },
    {
      "cell_type": "code",
      "source": [
        "!mkdir -p ~/.kaggle\n",
        "!cp kaggle.json ~/.kaggle/\n",
        "\n",
        "!chmod 600 ~/.kaggle/kaggle.json"
      ],
      "metadata": {
        "id": "9eKP36v8ljLB"
      },
      "execution_count": 3,
      "outputs": []
    },
    {
      "cell_type": "code",
      "source": [
        "!kaggle datasets download -d msambare/fer2013"
      ],
      "metadata": {
        "colab": {
          "base_uri": "https://localhost:8080/"
        },
        "id": "H9rSLZtnlok7",
        "outputId": "6c954adc-a94b-4a26-ee16-f568eaed63ed"
      },
      "execution_count": 4,
      "outputs": [
        {
          "output_type": "stream",
          "name": "stdout",
          "text": [
            "fer2013.zip: Skipping, found more recently modified local copy (use --force to force download)\n"
          ]
        }
      ]
    },
    {
      "cell_type": "code",
      "source": [
        "from zipfile import ZipFile\n",
        "file_name = 'fer2013.zip'\n",
        "\n",
        "with ZipFile(file_name,'r') as zip:\n",
        "    zip.extractall()\n",
        "print(\"done\")"
      ],
      "metadata": {
        "colab": {
          "base_uri": "https://localhost:8080/"
        },
        "id": "xfMf3TpclriP",
        "outputId": "f1605f56-8543-4502-d9fc-0ac386452ffb"
      },
      "execution_count": 5,
      "outputs": [
        {
          "output_type": "stream",
          "name": "stdout",
          "text": [
            "done\n"
          ]
        }
      ]
    },
    {
      "cell_type": "code",
      "source": [
        "\n",
        "im = imread(\"/content/test/fear/PrivateTest_10153550.jpg\")\n",
        "print(im,type(im))\n",
        "data = ima.fromarray(im)\n",
        "data"
      ],
      "metadata": {
        "colab": {
          "base_uri": "https://localhost:8080/",
          "height": 186
        },
        "id": "3v8duavxmEcI",
        "outputId": "6125e770-1275-4003-f661-fbf33fa11d41"
      },
      "execution_count": 6,
      "outputs": [
        {
          "output_type": "stream",
          "name": "stdout",
          "text": [
            "[[255 255 255 ... 116  88  47]\n",
            " [255 255 255 ...  51  83  94]\n",
            " [255 255 255 ...  62  74  73]\n",
            " ...\n",
            " [216 224 217 ... 195 194 192]\n",
            " [227 222 209 ... 173 176 173]\n",
            " [227 210 196 ... 138 136 146]] <class 'numpy.ndarray'>\n"
          ]
        },
        {
          "output_type": "execute_result",
          "data": {
            "text/plain": [
              "<PIL.Image.Image image mode=L size=48x48 at 0x7FC99A77C5D0>"
            ],
            "image/png": "[encoded data removed]"
          },
          "metadata": {},
          "execution_count": 6
        }
      ]
    },
    {
      "cell_type": "code",
      "source": [
        "picture_size = 48\n",
        "train_folder_path = \"train/\"\n",
        "test_folder_path = \"test/\""
      ],
      "metadata": {
        "id": "zI3WfO_DltNk"
      },
      "execution_count": 7,
      "outputs": []
    },
    {
      "cell_type": "code",
      "source": [
        "expression = 'happy'\n",
        "\n",
        "plt.figure(figsize= (12,12))\n",
        "for i in range(1, 10, 1):\n",
        "    plt.subplot(3,3,i)\n",
        "    img = load_img(train_folder_path+expression+\"/\"+os.listdir(train_folder_path+expression)[i], target_size=(picture_size, picture_size))\n",
        "    plt.imshow(img)   \n",
        "plt.show()\n",
        "im = imread(\"/content/test/fear/PrivateTest_10153550.jpg\")\n",
        "print(im,type(im))\n",
        "data = ima.fromarray(im)\n",
        "data"
      ],
      "metadata": {
        "colab": {
          "base_uri": "https://localhost:8080/",
          "height": 871
        },
        "id": "CP2op0aUltda",
        "outputId": "6ba1deb3-9e77-415e-f748-0115728f2228"
      },
      "execution_count": 8,
      "outputs": [
        {
          "output_type": "display_data",
          "data": {
            "text/plain": [
              "<Figure size 864x864 with 9 Axes>"
            ],
            "image/png": "[encoded data removed]"
          },
          "metadata": {
            "needs_background": "light"
          }
        },
        {
          "output_type": "execute_result",
          "data": {
            "text/plain": [
              "<PIL.Image.Image image mode=L size=48x48 at 0x7FC999FE62D0>"
            ],
            "image/png": "[encoded data removed]"
          },
          "metadata": {},
          "execution_count": 8
        },
        {
          "output_type": "stream",
          "name": "stdout",
          "text": [
            "[[255 255 255 ... 116  88  47]\n",
            " [255 255 255 ...  51  83  94]\n",
            " [255 255 255 ...  62  74  73]\n",
            " ...\n",
            " [216 224 217 ... 195 194 192]\n",
            " [227 222 209 ... 173 176 173]\n",
            " [227 210 196 ... 138 136 146]] <class 'numpy.ndarray'>\n"
          ]
        }
      ]
    },
    {
      "cell_type": "code",
      "source": [
        "batch_size  = 64\n",
        "\n",
        "\n",
        "datagen_train  = ImageDataGenerator(rescale=1.0/255.0)\n",
        "datagen_val = ImageDataGenerator(rescale=1.0/255.0)\n",
        "\n"
      ],
      "metadata": {
        "id": "U4NZZmQlFypt"
      },
      "execution_count": null,
      "outputs": []
    },
    {
      "cell_type": "code",
      "source": [
        "batch_size  = 64\n",
        "\n",
        "\n",
        "datagen_train  = ImageDataGenerator(rescale=1.0/255.0,validation_split=0.2)\n",
        "datagen_val = ImageDataGenerator(rescale=1.0/255.0)\n",
        "\n",
        "train_set = datagen_train.flow_from_directory(train_folder_path,target_size = (picture_size,picture_size),color_mode = \"grayscale\",batch_size=batch_size,class_mode='categorical',shuffle=True,subset=\"training\")\n",
        "validation_generator = datagen_train.flow_from_directory(train_folder_path, target_size=(picture_size,picture_size),color_mode = \"grayscale\",batch_size=batch_size,class_mode='categorical',subset='validation')\n",
        "#classes=['surprise','happy']\n",
        "test_set = datagen_val.flow_from_directory(test_folder_path,target_size = (picture_size,picture_size),color_mode = \"grayscale\",batch_size=batch_size,class_mode='categorical',shuffle=False)\n",
        "train_folder_path\n",
        "type(train_set)"
      ],
      "metadata": {
        "colab": {
          "base_uri": "https://localhost:8080/"
        },
        "id": "oo3s7f60lysL",
        "outputId": "63eed525-7fc0-4519-e6bc-9bad27612ce8"
      },
      "execution_count": 9,
      "outputs": [
        {
          "output_type": "stream",
          "name": "stdout",
          "text": [
            "Found 22968 images belonging to 7 classes.\n",
            "Found 5741 images belonging to 7 classes.\n",
            "Found 7178 images belonging to 7 classes.\n"
          ]
        },
        {
          "output_type": "execute_result",
          "data": {
            "text/plain": [
              "keras.preprocessing.image.DirectoryIterator"
            ]
          },
          "metadata": {},
          "execution_count": 9
        }
      ]
    },
    {
      "cell_type": "code",
      "source": [
        "dataset = tf.data.Dataset.from_generator(\n",
        "    lambda: train_set,\n",
        "    output_types = (tf.float32, tf.float32),\n",
        "    output_shapes = ([None, 48, 48, 1], [None,7]),\n",
        ")\n",
        "#print(dataset)\n",
        "#print((list(dataset.take(1).as_numpy_iterator())[0][0]).shape)\n",
        "#dataset.shape\n"
      ],
      "metadata": {
        "id": "fXFGIlH2l-2S"
      },
      "execution_count": 10,
      "outputs": []
    },
    {
      "cell_type": "code",
      "source": [
        "plt.figure(figsize= (12,12))\n",
        "for i in range(1,64):\n",
        "    plt.subplot(12,12,i)\n",
        "    \n",
        "    x = (list(dataset.take(2).as_numpy_iterator())[0][0][i]).reshape(48,48)\n",
        "    x = x.astype(np.uint8)#converting float to 0-255\n",
        "    data = ima.fromarray(x)\n",
        "    data\n",
        "    plt.imshow(data,cmap='gray')   \n",
        "plt.show()\n"
      ],
      "metadata": {
        "colab": {
          "base_uri": "https://localhost:8080/",
          "height": 373
        },
        "id": "lLLYaAzOmCJI",
        "outputId": "f3f86954-7a41-407a-c8b9-f98edc9fc23f"
      },
      "execution_count": 11,
      "outputs": [
        {
          "output_type": "display_data",
          "data": {
            "text/plain": [
              "<Figure size 864x864 with 63 Axes>"
            ],
            "image/png": "[encoded data removed]"
          },
          "metadata": {
            "needs_background": "light"
          }
        }
      ]
    },
    {
      "cell_type": "code",
      "source": [
        "\n",
        "from tensorflow.keras.optimizers import Adam,SGD,RMSprop\n",
        "\n",
        "\n",
        "no_of_classes = 7\n",
        "\n",
        "model = Sequential()\n",
        "\n",
        "model.add(Conv2D(64, (3, 3), activation='relu', input_shape=(48, 48, 1), kernel_regularizer=l2(0.01)))\n",
        "model.add(Conv2D(64, (3, 3), padding='same',activation='relu'))\n",
        "model.add(BatchNormalization())\n",
        "model.add(MaxPooling2D(pool_size=(2,2), strides=(2, 2)))\n",
        "model.add(Dropout(0.5))    \n",
        "\n",
        "model.add(Conv2D(128, (3, 3), padding='same', activation='relu'))\n",
        "model.add(BatchNormalization())\n",
        "model.add(Conv2D(128, (3, 3), padding='same', activation='relu'))\n",
        "model.add(BatchNormalization())\n",
        "model.add(Conv2D(128, (3, 3), padding='same', activation='relu'))\n",
        "model.add(BatchNormalization())\n",
        "model.add(MaxPooling2D(pool_size=(2,2)))\n",
        "model.add(Dropout(0.5))    \n",
        "\n",
        "model.add(Conv2D(256, (3, 3), padding='same', activation='relu'))\n",
        "model.add(BatchNormalization())\n",
        "model.add(Conv2D(256, (3, 3), padding='same', activation='relu'))\n",
        "model.add(BatchNormalization())\n",
        "model.add(Conv2D(256, (3, 3), padding='same', activation='relu'))\n",
        "model.add(BatchNormalization())\n",
        "model.add(MaxPooling2D(pool_size=(2,2)))\n",
        "model.add(Dropout(0.5))    \n",
        "\n",
        "model.add(Conv2D(512, (3, 3), padding='same', activation='relu'))\n",
        "model.add(BatchNormalization())\n",
        "model.add(Conv2D(512, (3, 3), padding='same', activation='relu'))\n",
        "model.add(BatchNormalization())\n",
        "model.add(Conv2D(512, (3, 3), padding='same', activation='relu'))\n",
        "model.add(BatchNormalization())\n",
        "model.add(MaxPooling2D(pool_size=(2,2)))\n",
        "model.add(Dropout(0.5))    \n",
        "\n",
        "model.add(Flatten())\n",
        "\n",
        "model.add(Dense(512, activation='relu'))\n",
        "model.add(Dropout(0.4))\n",
        "\n",
        "model.add(Dense(256, activation='relu'))\n",
        "model.add(Dropout(0.4))\n",
        "\n",
        "model.add(Dense(128, activation='relu'))\n",
        "model.add(Dropout(0.4))\n",
        "\n",
        "model.add(Dense(64, activation='relu'))\n",
        "model.add(Dropout(0.5))\n",
        "\n",
        "model.add(Dense(7, activation='softmax'))\n",
        "\n",
        "\n",
        "opt = Adam(lr = 0.001)\n",
        "model.compile(optimizer=opt,loss='categorical_crossentropy', metrics=['accuracy'])\n",
        "model.summary()"
      ],
      "metadata": {
        "colab": {
          "base_uri": "https://localhost:8080/"
        },
        "id": "9MXAUwB2mMvy",
        "outputId": "3fcaaefd-331e-4f92-a3df-f4e38f6506fc"
      },
      "execution_count": 29,
      "outputs": [
        {
          "output_type": "stream",
          "name": "stdout",
          "text": [
            "Model: \"sequential_1\"\n",
            "_________________________________________________________________\n",
            " Layer (type)                Output Shape              Param #   \n",
            "=================================================================\n",
            " conv2d_11 (Conv2D)          (None, 46, 46, 64)        640       \n",
            "                                                                 \n",
            " conv2d_12 (Conv2D)          (None, 46, 46, 64)        36928     \n",
            "                                                                 \n",
            " batch_normalization_10 (Bat  (None, 46, 46, 64)       256       \n",
            " chNormalization)                                                \n",
            "                                                                 \n",
            " max_pooling2d_4 (MaxPooling  (None, 23, 23, 64)       0         \n",
            " 2D)                                                             \n",
            "                                                                 \n",
            " dropout_8 (Dropout)         (None, 23, 23, 64)        0         \n",
            "                                                                 \n",
            " conv2d_13 (Conv2D)          (None, 23, 23, 128)       73856     \n",
            "                                                                 \n",
            " batch_normalization_11 (Bat  (None, 23, 23, 128)      512       \n",
            " chNormalization)                                                \n",
            "                                                                 \n",
            " conv2d_14 (Conv2D)          (None, 23, 23, 128)       147584    \n",
            "                                                                 \n",
            " batch_normalization_12 (Bat  (None, 23, 23, 128)      512       \n",
            " chNormalization)                                                \n",
            "                                                                 \n",
            " conv2d_15 (Conv2D)          (None, 23, 23, 128)       147584    \n",
            "                                                                 \n",
            " batch_normalization_13 (Bat  (None, 23, 23, 128)      512       \n",
            " chNormalization)                                                \n",
            "                                                                 \n",
            " max_pooling2d_5 (MaxPooling  (None, 11, 11, 128)      0         \n",
            " 2D)                                                             \n",
            "                                                                 \n",
            " dropout_9 (Dropout)         (None, 11, 11, 128)       0         \n",
            "                                                                 \n",
            " conv2d_16 (Conv2D)          (None, 11, 11, 256)       295168    \n",
            "                                                                 \n",
            " batch_normalization_14 (Bat  (None, 11, 11, 256)      1024      \n",
            " chNormalization)                                                \n",
            "                                                                 \n",
            " conv2d_17 (Conv2D)          (None, 11, 11, 256)       590080    \n",
            "                                                                 \n",
            " batch_normalization_15 (Bat  (None, 11, 11, 256)      1024      \n",
            " chNormalization)                                                \n",
            "                                                                 \n",
            " conv2d_18 (Conv2D)          (None, 11, 11, 256)       590080    \n",
            "                                                                 \n",
            " batch_normalization_16 (Bat  (None, 11, 11, 256)      1024      \n",
            " chNormalization)                                                \n",
            "                                                                 \n",
            " max_pooling2d_6 (MaxPooling  (None, 5, 5, 256)        0         \n",
            " 2D)                                                             \n",
            "                                                                 \n",
            " dropout_10 (Dropout)        (None, 5, 5, 256)         0         \n",
            "                                                                 \n",
            " conv2d_19 (Conv2D)          (None, 5, 5, 512)         1180160   \n",
            "                                                                 \n",
            " batch_normalization_17 (Bat  (None, 5, 5, 512)        2048      \n",
            " chNormalization)                                                \n",
            "                                                                 \n",
            " conv2d_20 (Conv2D)          (None, 5, 5, 512)         2359808   \n",
            "                                                                 \n",
            " batch_normalization_18 (Bat  (None, 5, 5, 512)        2048      \n",
            " chNormalization)                                                \n",
            "                                                                 \n",
            " conv2d_21 (Conv2D)          (None, 5, 5, 512)         2359808   \n",
            "                                                                 \n",
            " batch_normalization_19 (Bat  (None, 5, 5, 512)        2048      \n",
            " chNormalization)                                                \n",
            "                                                                 \n",
            " max_pooling2d_7 (MaxPooling  (None, 2, 2, 512)        0         \n",
            " 2D)                                                             \n",
            "                                                                 \n",
            " dropout_11 (Dropout)        (None, 2, 2, 512)         0         \n",
            "                                                                 \n",
            " flatten_1 (Flatten)         (None, 2048)              0         \n",
            "                                                                 \n",
            " dense_5 (Dense)             (None, 512)               1049088   \n",
            "                                                                 \n",
            " dropout_12 (Dropout)        (None, 512)               0         \n",
            "                                                                 \n",
            " dense_6 (Dense)             (None, 256)               131328    \n",
            "                                                                 \n",
            " dropout_13 (Dropout)        (None, 256)               0         \n",
            "                                                                 \n",
            " dense_7 (Dense)             (None, 128)               32896     \n",
            "                                                                 \n",
            " dropout_14 (Dropout)        (None, 128)               0         \n",
            "                                                                 \n",
            " dense_8 (Dense)             (None, 64)                8256      \n",
            "                                                                 \n",
            " dropout_15 (Dropout)        (None, 64)                0         \n",
            "                                                                 \n",
            " dense_9 (Dense)             (None, 7)                 455       \n",
            "                                                                 \n",
            "=================================================================\n",
            "Total params: 9,014,727\n",
            "Trainable params: 9,009,223\n",
            "Non-trainable params: 5,504\n",
            "_________________________________________________________________\n"
          ]
        },
        {
          "output_type": "stream",
          "name": "stderr",
          "text": [
            "/usr/local/lib/python3.7/dist-packages/keras/optimizer_v2/adam.py:105: UserWarning: The `lr` argument is deprecated, use `learning_rate` instead.\n",
            "  super(Adam, self).__init__(name, **kwargs)\n"
          ]
        }
      ]
    },
    {
      "cell_type": "code",
      "source": [
        "from keras.callbacks import ModelCheckpoint, EarlyStopping, ReduceLROnPlateau\n",
        "\n",
        "lr_reducer = ReduceLROnPlateau(monitor='val_loss', factor=0.9, patience=3)\n",
        "early_stopper = EarlyStopping(monitor='val_accuracy', min_delta=0, patience=6, mode='auto')\n",
        "checkpointer = ModelCheckpoint('./model.h5', monitor='val_loss', verbose=1, save_best_only=True)\n"
      ],
      "metadata": {
        "id": "5TPrpoVTmNpf"
      },
      "execution_count": 30,
      "outputs": []
    },
    {
      "cell_type": "code",
      "source": [
        "epochs = 100\n",
        "history = model.fit(train_set,steps_per_epoch=train_set.n//train_set.batch_size,epochs=epochs,validation_data = validation_generator,validation_steps = validation_generator.n//validation_generator.batch_size,callbacks=[lr_reducer, checkpointer, early_stopper])\n",
        "\n",
        "#history = model.fit_generator(generator=train_set,steps_per_epoch=train_set.n//train_set.batch_size,epochs=epochs,validation_data = test_set,validation_steps = test_set.n//test_set.batch_size,callbacks=callbacks_list)\n",
        "#model.summary()"
      ],
      "metadata": {
        "colab": {
          "base_uri": "https://localhost:8080/"
        },
        "id": "Soo8bHw9mRHX",
        "outputId": "5f785e8a-c606-4767-9fd4-97f066cd0aa5"
      },
      "execution_count": 31,
      "outputs": [
        {
          "output_type": "stream",
          "name": "stdout",
          "text": [
            "Epoch 1/100\n",
            "358/358 [==============================] - ETA: 0s - loss: 2.0355 - accuracy: 0.1997\n",
            "Epoch 1: val_loss improved from inf to 1.84213, saving model to ./model.h5\n",
            "358/358 [==============================] - 25s 65ms/step - loss: 2.0355 - accuracy: 0.1997 - val_loss: 1.8421 - val_accuracy: 0.2514 - lr: 0.0010\n",
            "Epoch 2/100\n",
            "358/358 [==============================] - ETA: 0s - loss: 1.8578 - accuracy: 0.2383\n",
            "Epoch 2: val_loss improved from 1.84213 to 1.81748, saving model to ./model.h5\n",
            "358/358 [==============================] - 23s 64ms/step - loss: 1.8578 - accuracy: 0.2383 - val_loss: 1.8175 - val_accuracy: 0.2512 - lr: 0.0010\n",
            "Epoch 3/100\n",
            "358/358 [==============================] - ETA: 0s - loss: 1.8339 - accuracy: 0.2467\n",
            "Epoch 3: val_loss improved from 1.81748 to 1.81568, saving model to ./model.h5\n",
            "358/358 [==============================] - 23s 65ms/step - loss: 1.8339 - accuracy: 0.2467 - val_loss: 1.8157 - val_accuracy: 0.2516 - lr: 0.0010\n",
            "Epoch 4/100\n",
            "358/358 [==============================] - ETA: 0s - loss: 1.8245 - accuracy: 0.2499\n",
            "Epoch 4: val_loss improved from 1.81568 to 1.80579, saving model to ./model.h5\n",
            "358/358 [==============================] - 24s 67ms/step - loss: 1.8245 - accuracy: 0.2499 - val_loss: 1.8058 - val_accuracy: 0.2509 - lr: 0.0010\n",
            "Epoch 5/100\n",
            "358/358 [==============================] - ETA: 0s - loss: 1.8115 - accuracy: 0.2514\n",
            "Epoch 5: val_loss did not improve from 1.80579\n",
            "358/358 [==============================] - 24s 66ms/step - loss: 1.8115 - accuracy: 0.2514 - val_loss: 1.8310 - val_accuracy: 0.2518 - lr: 0.0010\n",
            "Epoch 6/100\n",
            "358/358 [==============================] - ETA: 0s - loss: 1.7890 - accuracy: 0.2651\n",
            "Epoch 6: val_loss improved from 1.80579 to 1.77018, saving model to ./model.h5\n",
            "358/358 [==============================] - 24s 66ms/step - loss: 1.7890 - accuracy: 0.2651 - val_loss: 1.7702 - val_accuracy: 0.2660 - lr: 0.0010\n",
            "Epoch 7/100\n",
            "358/358 [==============================] - ETA: 0s - loss: 1.7463 - accuracy: 0.2880\n",
            "Epoch 7: val_loss improved from 1.77018 to 1.76516, saving model to ./model.h5\n",
            "358/358 [==============================] - 24s 66ms/step - loss: 1.7463 - accuracy: 0.2880 - val_loss: 1.7652 - val_accuracy: 0.2809 - lr: 0.0010\n",
            "Epoch 8/100\n",
            "358/358 [==============================] - ETA: 0s - loss: 1.6831 - accuracy: 0.3123\n",
            "Epoch 8: val_loss improved from 1.76516 to 1.62350, saving model to ./model.h5\n",
            "358/358 [==============================] - 24s 66ms/step - loss: 1.6831 - accuracy: 0.3123 - val_loss: 1.6235 - val_accuracy: 0.3251 - lr: 0.0010\n",
            "Epoch 9/100\n",
            "358/358 [==============================] - ETA: 0s - loss: 1.6157 - accuracy: 0.3450\n",
            "Epoch 9: val_loss improved from 1.62350 to 1.59599, saving model to ./model.h5\n",
            "358/358 [==============================] - 24s 66ms/step - loss: 1.6157 - accuracy: 0.3450 - val_loss: 1.5960 - val_accuracy: 0.3639 - lr: 0.0010\n",
            "Epoch 10/100\n",
            "358/358 [==============================] - ETA: 0s - loss: 1.5690 - accuracy: 0.3836\n",
            "Epoch 10: val_loss did not improve from 1.59599\n",
            "358/358 [==============================] - 23s 65ms/step - loss: 1.5690 - accuracy: 0.3836 - val_loss: 1.7115 - val_accuracy: 0.2890 - lr: 0.0010\n",
            "Epoch 11/100\n",
            "358/358 [==============================] - ETA: 0s - loss: 1.5215 - accuracy: 0.3992\n",
            "Epoch 11: val_loss improved from 1.59599 to 1.54709, saving model to ./model.h5\n",
            "358/358 [==============================] - 24s 66ms/step - loss: 1.5215 - accuracy: 0.3992 - val_loss: 1.5471 - val_accuracy: 0.3813 - lr: 0.0010\n",
            "Epoch 12/100\n",
            "358/358 [==============================] - ETA: 0s - loss: 1.4822 - accuracy: 0.4149\n",
            "Epoch 12: val_loss improved from 1.54709 to 1.45610, saving model to ./model.h5\n",
            "358/358 [==============================] - 24s 67ms/step - loss: 1.4822 - accuracy: 0.4149 - val_loss: 1.4561 - val_accuracy: 0.4096 - lr: 0.0010\n",
            "Epoch 13/100\n",
            "358/358 [==============================] - ETA: 0s - loss: 1.4480 - accuracy: 0.4247\n",
            "Epoch 13: val_loss improved from 1.45610 to 1.43014, saving model to ./model.h5\n",
            "358/358 [==============================] - 24s 67ms/step - loss: 1.4480 - accuracy: 0.4247 - val_loss: 1.4301 - val_accuracy: 0.4217 - lr: 0.0010\n",
            "Epoch 14/100\n",
            "358/358 [==============================] - ETA: 0s - loss: 1.4227 - accuracy: 0.4284\n",
            "Epoch 14: val_loss improved from 1.43014 to 1.40046, saving model to ./model.h5\n",
            "358/358 [==============================] - 25s 69ms/step - loss: 1.4227 - accuracy: 0.4284 - val_loss: 1.4005 - val_accuracy: 0.4289 - lr: 0.0010\n",
            "Epoch 15/100\n",
            "358/358 [==============================] - ETA: 0s - loss: 1.4156 - accuracy: 0.4325\n",
            "Epoch 15: val_loss did not improve from 1.40046\n",
            "358/358 [==============================] - 23s 65ms/step - loss: 1.4156 - accuracy: 0.4325 - val_loss: 1.4443 - val_accuracy: 0.4145 - lr: 0.0010\n",
            "Epoch 16/100\n",
            "358/358 [==============================] - ETA: 0s - loss: 1.3995 - accuracy: 0.4393\n",
            "Epoch 16: val_loss improved from 1.40046 to 1.35788, saving model to ./model.h5\n",
            "358/358 [==============================] - 24s 67ms/step - loss: 1.3995 - accuracy: 0.4393 - val_loss: 1.3579 - val_accuracy: 0.4403 - lr: 0.0010\n",
            "Epoch 17/100\n",
            "358/358 [==============================] - ETA: 0s - loss: 1.3820 - accuracy: 0.4455\n",
            "Epoch 17: val_loss did not improve from 1.35788\n",
            "358/358 [==============================] - 24s 66ms/step - loss: 1.3820 - accuracy: 0.4455 - val_loss: 1.3827 - val_accuracy: 0.4268 - lr: 0.0010\n",
            "Epoch 18/100\n",
            "358/358 [==============================] - ETA: 0s - loss: 1.3727 - accuracy: 0.4487\n",
            "Epoch 18: val_loss did not improve from 1.35788\n",
            "358/358 [==============================] - 23s 65ms/step - loss: 1.3727 - accuracy: 0.4487 - val_loss: 1.3766 - val_accuracy: 0.4359 - lr: 0.0010\n",
            "Epoch 19/100\n",
            "358/358 [==============================] - ETA: 0s - loss: 1.3499 - accuracy: 0.4508\n",
            "Epoch 19: val_loss did not improve from 1.35788\n",
            "358/358 [==============================] - 23s 65ms/step - loss: 1.3499 - accuracy: 0.4508 - val_loss: 1.3639 - val_accuracy: 0.4433 - lr: 0.0010\n",
            "Epoch 20/100\n",
            "358/358 [==============================] - ETA: 0s - loss: 1.3317 - accuracy: 0.4576\n",
            "Epoch 20: val_loss improved from 1.35788 to 1.33442, saving model to ./model.h5\n",
            "358/358 [==============================] - 24s 66ms/step - loss: 1.3317 - accuracy: 0.4576 - val_loss: 1.3344 - val_accuracy: 0.4501 - lr: 9.0000e-04\n",
            "Epoch 21/100\n",
            "358/358 [==============================] - ETA: 0s - loss: 1.3245 - accuracy: 0.4610\n",
            "Epoch 21: val_loss improved from 1.33442 to 1.33414, saving model to ./model.h5\n",
            "358/358 [==============================] - 24s 67ms/step - loss: 1.3245 - accuracy: 0.4610 - val_loss: 1.3341 - val_accuracy: 0.4466 - lr: 9.0000e-04\n",
            "Epoch 22/100\n",
            "358/358 [==============================] - ETA: 0s - loss: 1.3106 - accuracy: 0.4699\n",
            "Epoch 22: val_loss improved from 1.33414 to 1.32612, saving model to ./model.h5\n",
            "358/358 [==============================] - 24s 67ms/step - loss: 1.3106 - accuracy: 0.4699 - val_loss: 1.3261 - val_accuracy: 0.4840 - lr: 9.0000e-04\n",
            "Epoch 23/100\n",
            "358/358 [==============================] - ETA: 0s - loss: 1.3104 - accuracy: 0.4683\n",
            "Epoch 23: val_loss did not improve from 1.32612\n",
            "358/358 [==============================] - 24s 68ms/step - loss: 1.3104 - accuracy: 0.4683 - val_loss: 1.3785 - val_accuracy: 0.4340 - lr: 9.0000e-04\n",
            "Epoch 24/100\n",
            "358/358 [==============================] - ETA: 0s - loss: 1.2808 - accuracy: 0.4873\n",
            "Epoch 24: val_loss improved from 1.32612 to 1.25634, saving model to ./model.h5\n",
            "358/358 [==============================] - 24s 67ms/step - loss: 1.2808 - accuracy: 0.4873 - val_loss: 1.2563 - val_accuracy: 0.5219 - lr: 9.0000e-04\n",
            "Epoch 25/100\n",
            "358/358 [==============================] - ETA: 0s - loss: 1.2642 - accuracy: 0.5007\n",
            "Epoch 25: val_loss did not improve from 1.25634\n",
            "358/358 [==============================] - 24s 66ms/step - loss: 1.2642 - accuracy: 0.5007 - val_loss: 1.2961 - val_accuracy: 0.4930 - lr: 9.0000e-04\n",
            "Epoch 26/100\n",
            "358/358 [==============================] - ETA: 0s - loss: 1.2461 - accuracy: 0.5161\n",
            "Epoch 26: val_loss improved from 1.25634 to 1.23524, saving model to ./model.h5\n",
            "358/358 [==============================] - 24s 68ms/step - loss: 1.2461 - accuracy: 0.5161 - val_loss: 1.2352 - val_accuracy: 0.5349 - lr: 9.0000e-04\n",
            "Epoch 27/100\n",
            "358/358 [==============================] - ETA: 0s - loss: 1.2230 - accuracy: 0.5286\n",
            "Epoch 27: val_loss did not improve from 1.23524\n",
            "358/358 [==============================] - 24s 66ms/step - loss: 1.2230 - accuracy: 0.5286 - val_loss: 1.2457 - val_accuracy: 0.5255 - lr: 9.0000e-04\n",
            "Epoch 28/100\n",
            "358/358 [==============================] - ETA: 0s - loss: 1.2147 - accuracy: 0.5374\n",
            "Epoch 28: val_loss did not improve from 1.23524\n",
            "358/358 [==============================] - 24s 66ms/step - loss: 1.2147 - accuracy: 0.5374 - val_loss: 1.3110 - val_accuracy: 0.5068 - lr: 9.0000e-04\n",
            "Epoch 29/100\n",
            "358/358 [==============================] - ETA: 0s - loss: 1.1936 - accuracy: 0.5486\n",
            "Epoch 29: val_loss did not improve from 1.23524\n",
            "358/358 [==============================] - 24s 66ms/step - loss: 1.1936 - accuracy: 0.5486 - val_loss: 1.2486 - val_accuracy: 0.5284 - lr: 9.0000e-04\n",
            "Epoch 30/100\n",
            "358/358 [==============================] - ETA: 0s - loss: 1.1585 - accuracy: 0.5611\n",
            "Epoch 30: val_loss improved from 1.23524 to 1.22750, saving model to ./model.h5\n",
            "358/358 [==============================] - 25s 69ms/step - loss: 1.1585 - accuracy: 0.5611 - val_loss: 1.2275 - val_accuracy: 0.5330 - lr: 8.1000e-04\n",
            "Epoch 31/100\n",
            "358/358 [==============================] - ETA: 0s - loss: 1.1344 - accuracy: 0.5685\n",
            "Epoch 31: val_loss did not improve from 1.22750\n",
            "358/358 [==============================] - 24s 66ms/step - loss: 1.1344 - accuracy: 0.5685 - val_loss: 1.2531 - val_accuracy: 0.5320 - lr: 8.1000e-04\n",
            "Epoch 32/100\n",
            "358/358 [==============================] - ETA: 0s - loss: 1.1127 - accuracy: 0.5766\n",
            "Epoch 32: val_loss improved from 1.22750 to 1.21567, saving model to ./model.h5\n",
            "358/358 [==============================] - 24s 67ms/step - loss: 1.1127 - accuracy: 0.5766 - val_loss: 1.2157 - val_accuracy: 0.5534 - lr: 8.1000e-04\n",
            "Epoch 33/100\n",
            "358/358 [==============================] - ETA: 0s - loss: 1.1105 - accuracy: 0.5826\n",
            "Epoch 33: val_loss improved from 1.21567 to 1.19164, saving model to ./model.h5\n",
            "358/358 [==============================] - 24s 67ms/step - loss: 1.1105 - accuracy: 0.5826 - val_loss: 1.1916 - val_accuracy: 0.5546 - lr: 8.1000e-04\n",
            "Epoch 34/100\n",
            "358/358 [==============================] - ETA: 0s - loss: 1.0927 - accuracy: 0.5916\n",
            "Epoch 34: val_loss did not improve from 1.19164\n",
            "358/358 [==============================] - 24s 66ms/step - loss: 1.0927 - accuracy: 0.5916 - val_loss: 1.1985 - val_accuracy: 0.5665 - lr: 8.1000e-04\n",
            "Epoch 35/100\n",
            "358/358 [==============================] - ETA: 0s - loss: 1.0678 - accuracy: 0.5987\n",
            "Epoch 35: val_loss improved from 1.19164 to 1.19022, saving model to ./model.h5\n",
            "358/358 [==============================] - 24s 67ms/step - loss: 1.0678 - accuracy: 0.5987 - val_loss: 1.1902 - val_accuracy: 0.5567 - lr: 8.1000e-04\n",
            "Epoch 36/100\n",
            "358/358 [==============================] - ETA: 0s - loss: 1.0551 - accuracy: 0.6071\n",
            "Epoch 36: val_loss improved from 1.19022 to 1.17200, saving model to ./model.h5\n",
            "358/358 [==============================] - 24s 67ms/step - loss: 1.0551 - accuracy: 0.6071 - val_loss: 1.1720 - val_accuracy: 0.5744 - lr: 8.1000e-04\n",
            "Epoch 37/100\n",
            "358/358 [==============================] - ETA: 0s - loss: 1.0364 - accuracy: 0.6128\n",
            "Epoch 37: val_loss did not improve from 1.17200\n",
            "358/358 [==============================] - 24s 66ms/step - loss: 1.0364 - accuracy: 0.6128 - val_loss: 1.1991 - val_accuracy: 0.5479 - lr: 8.1000e-04\n",
            "Epoch 38/100\n",
            "358/358 [==============================] - ETA: 0s - loss: 1.0187 - accuracy: 0.6210\n",
            "Epoch 38: val_loss did not improve from 1.17200\n",
            "358/358 [==============================] - 24s 66ms/step - loss: 1.0187 - accuracy: 0.6210 - val_loss: 1.2478 - val_accuracy: 0.5620 - lr: 8.1000e-04\n",
            "Epoch 39/100\n",
            "358/358 [==============================] - ETA: 0s - loss: 1.0148 - accuracy: 0.6265\n",
            "Epoch 39: val_loss did not improve from 1.17200\n",
            "358/358 [==============================] - 24s 66ms/step - loss: 1.0148 - accuracy: 0.6265 - val_loss: 1.1829 - val_accuracy: 0.5723 - lr: 8.1000e-04\n",
            "Epoch 40/100\n",
            "358/358 [==============================] - ETA: 0s - loss: 0.9908 - accuracy: 0.6350\n",
            "Epoch 40: val_loss did not improve from 1.17200\n",
            "358/358 [==============================] - 24s 66ms/step - loss: 0.9908 - accuracy: 0.6350 - val_loss: 1.1877 - val_accuracy: 0.5862 - lr: 7.2900e-04\n",
            "Epoch 41/100\n",
            "358/358 [==============================] - ETA: 0s - loss: 0.9634 - accuracy: 0.6411\n",
            "Epoch 41: val_loss did not improve from 1.17200\n",
            "358/358 [==============================] - 24s 66ms/step - loss: 0.9634 - accuracy: 0.6411 - val_loss: 1.2496 - val_accuracy: 0.5764 - lr: 7.2900e-04\n",
            "Epoch 42/100\n",
            "358/358 [==============================] - ETA: 0s - loss: 0.9432 - accuracy: 0.6537\n",
            "Epoch 42: val_loss did not improve from 1.17200\n",
            "358/358 [==============================] - 24s 66ms/step - loss: 0.9432 - accuracy: 0.6537 - val_loss: 1.2457 - val_accuracy: 0.5658 - lr: 7.2900e-04\n",
            "Epoch 43/100\n",
            "358/358 [==============================] - ETA: 0s - loss: 0.9185 - accuracy: 0.6648\n",
            "Epoch 43: val_loss did not improve from 1.17200\n",
            "358/358 [==============================] - 24s 66ms/step - loss: 0.9185 - accuracy: 0.6648 - val_loss: 1.2711 - val_accuracy: 0.5788 - lr: 6.5610e-04\n",
            "Epoch 44/100\n",
            "358/358 [==============================] - ETA: 0s - loss: 0.9124 - accuracy: 0.6704\n",
            "Epoch 44: val_loss did not improve from 1.17200\n",
            "358/358 [==============================] - 24s 66ms/step - loss: 0.9124 - accuracy: 0.6704 - val_loss: 1.2880 - val_accuracy: 0.5686 - lr: 6.5610e-04\n",
            "Epoch 45/100\n",
            "358/358 [==============================] - ETA: 0s - loss: 0.8856 - accuracy: 0.6815\n",
            "Epoch 45: val_loss did not improve from 1.17200\n",
            "358/358 [==============================] - 24s 66ms/step - loss: 0.8856 - accuracy: 0.6815 - val_loss: 1.2278 - val_accuracy: 0.5855 - lr: 6.5610e-04\n",
            "Epoch 46/100\n",
            "358/358 [==============================] - ETA: 0s - loss: 0.8436 - accuracy: 0.6973\n",
            "Epoch 46: val_loss did not improve from 1.17200\n",
            "358/358 [==============================] - 24s 66ms/step - loss: 0.8436 - accuracy: 0.6973 - val_loss: 1.2817 - val_accuracy: 0.5911 - lr: 5.9049e-04\n",
            "Epoch 47/100\n",
            "358/358 [==============================] - ETA: 0s - loss: 0.8434 - accuracy: 0.6952\n",
            "Epoch 47: val_loss did not improve from 1.17200\n",
            "358/358 [==============================] - 24s 66ms/step - loss: 0.8434 - accuracy: 0.6952 - val_loss: 1.2308 - val_accuracy: 0.5916 - lr: 5.9049e-04\n",
            "Epoch 48/100\n",
            "358/358 [==============================] - ETA: 0s - loss: 0.8269 - accuracy: 0.7033\n",
            "Epoch 48: val_loss did not improve from 1.17200\n",
            "358/358 [==============================] - 24s 66ms/step - loss: 0.8269 - accuracy: 0.7033 - val_loss: 1.2486 - val_accuracy: 0.5981 - lr: 5.9049e-04\n",
            "Epoch 49/100\n",
            "358/358 [==============================] - ETA: 0s - loss: 0.8061 - accuracy: 0.7096\n",
            "Epoch 49: val_loss did not improve from 1.17200\n",
            "358/358 [==============================] - 24s 66ms/step - loss: 0.8061 - accuracy: 0.7096 - val_loss: 1.2954 - val_accuracy: 0.5955 - lr: 5.3144e-04\n",
            "Epoch 50/100\n",
            "358/358 [==============================] - ETA: 0s - loss: 0.7641 - accuracy: 0.7274\n",
            "Epoch 50: val_loss did not improve from 1.17200\n",
            "358/358 [==============================] - 24s 66ms/step - loss: 0.7641 - accuracy: 0.7274 - val_loss: 1.3140 - val_accuracy: 0.5894 - lr: 5.3144e-04\n",
            "Epoch 51/100\n",
            "358/358 [==============================] - ETA: 0s - loss: 0.7444 - accuracy: 0.7339\n",
            "Epoch 51: val_loss did not improve from 1.17200\n",
            "358/358 [==============================] - 24s 66ms/step - loss: 0.7444 - accuracy: 0.7339 - val_loss: 1.3911 - val_accuracy: 0.6050 - lr: 5.3144e-04\n",
            "Epoch 52/100\n",
            "358/358 [==============================] - ETA: 0s - loss: 0.7270 - accuracy: 0.7440\n",
            "Epoch 52: val_loss did not improve from 1.17200\n",
            "358/358 [==============================] - 24s 66ms/step - loss: 0.7270 - accuracy: 0.7440 - val_loss: 1.3093 - val_accuracy: 0.5978 - lr: 4.7830e-04\n",
            "Epoch 53/100\n",
            "358/358 [==============================] - ETA: 0s - loss: 0.7108 - accuracy: 0.7503\n",
            "Epoch 53: val_loss did not improve from 1.17200\n",
            "358/358 [==============================] - 24s 66ms/step - loss: 0.7108 - accuracy: 0.7503 - val_loss: 1.3424 - val_accuracy: 0.6045 - lr: 4.7830e-04\n",
            "Epoch 54/100\n",
            "358/358 [==============================] - ETA: 0s - loss: 0.6841 - accuracy: 0.7593\n",
            "Epoch 54: val_loss did not improve from 1.17200\n",
            "358/358 [==============================] - 24s 66ms/step - loss: 0.6841 - accuracy: 0.7593 - val_loss: 1.3416 - val_accuracy: 0.6092 - lr: 4.7830e-04\n",
            "Epoch 55/100\n",
            "358/358 [==============================] - ETA: 0s - loss: 0.6650 - accuracy: 0.7693\n",
            "Epoch 55: val_loss did not improve from 1.17200\n",
            "358/358 [==============================] - 24s 66ms/step - loss: 0.6650 - accuracy: 0.7693 - val_loss: 1.4772 - val_accuracy: 0.6176 - lr: 4.3047e-04\n",
            "Epoch 56/100\n",
            "358/358 [==============================] - ETA: 0s - loss: 0.6403 - accuracy: 0.7775\n",
            "Epoch 56: val_loss did not improve from 1.17200\n",
            "358/358 [==============================] - 24s 66ms/step - loss: 0.6403 - accuracy: 0.7775 - val_loss: 1.4055 - val_accuracy: 0.6092 - lr: 4.3047e-04\n",
            "Epoch 57/100\n",
            "358/358 [==============================] - ETA: 0s - loss: 0.6295 - accuracy: 0.7834\n",
            "Epoch 57: val_loss did not improve from 1.17200\n",
            "358/358 [==============================] - 24s 66ms/step - loss: 0.6295 - accuracy: 0.7834 - val_loss: 1.4052 - val_accuracy: 0.6096 - lr: 4.3047e-04\n",
            "Epoch 58/100\n",
            "358/358 [==============================] - ETA: 0s - loss: 0.6189 - accuracy: 0.7889\n",
            "Epoch 58: val_loss did not improve from 1.17200\n",
            "358/358 [==============================] - 24s 66ms/step - loss: 0.6189 - accuracy: 0.7889 - val_loss: 1.4735 - val_accuracy: 0.6159 - lr: 3.8742e-04\n",
            "Epoch 59/100\n",
            "358/358 [==============================] - ETA: 0s - loss: 0.6036 - accuracy: 0.7965\n",
            "Epoch 59: val_loss did not improve from 1.17200\n",
            "358/358 [==============================] - 24s 66ms/step - loss: 0.6036 - accuracy: 0.7965 - val_loss: 1.4484 - val_accuracy: 0.6117 - lr: 3.8742e-04\n",
            "Epoch 60/100\n",
            "358/358 [==============================] - ETA: 0s - loss: 0.5782 - accuracy: 0.7996\n",
            "Epoch 60: val_loss did not improve from 1.17200\n",
            "358/358 [==============================] - 24s 66ms/step - loss: 0.5782 - accuracy: 0.7996 - val_loss: 1.6251 - val_accuracy: 0.6222 - lr: 3.8742e-04\n",
            "Epoch 61/100\n",
            "358/358 [==============================] - ETA: 0s - loss: 0.5601 - accuracy: 0.8082\n",
            "Epoch 61: val_loss did not improve from 1.17200\n",
            "358/358 [==============================] - 24s 66ms/step - loss: 0.5601 - accuracy: 0.8082 - val_loss: 1.5648 - val_accuracy: 0.6197 - lr: 3.4868e-04\n",
            "Epoch 62/100\n",
            "358/358 [==============================] - ETA: 0s - loss: 0.5477 - accuracy: 0.8155\n",
            "Epoch 62: val_loss did not improve from 1.17200\n",
            "358/358 [==============================] - 23s 65ms/step - loss: 0.5477 - accuracy: 0.8155 - val_loss: 1.5506 - val_accuracy: 0.6148 - lr: 3.4868e-04\n",
            "Epoch 63/100\n",
            "358/358 [==============================] - ETA: 0s - loss: 0.5311 - accuracy: 0.8182\n",
            "Epoch 63: val_loss did not improve from 1.17200\n",
            "358/358 [==============================] - 24s 66ms/step - loss: 0.5311 - accuracy: 0.8182 - val_loss: 1.5740 - val_accuracy: 0.6092 - lr: 3.4868e-04\n",
            "Epoch 64/100\n",
            "358/358 [==============================] - ETA: 0s - loss: 0.5079 - accuracy: 0.8292\n",
            "Epoch 64: val_loss did not improve from 1.17200\n",
            "358/358 [==============================] - 24s 68ms/step - loss: 0.5079 - accuracy: 0.8292 - val_loss: 1.5945 - val_accuracy: 0.6148 - lr: 3.1381e-04\n",
            "Epoch 65/100\n",
            "358/358 [==============================] - ETA: 0s - loss: 0.5069 - accuracy: 0.8323\n",
            "Epoch 65: val_loss did not improve from 1.17200\n",
            "358/358 [==============================] - 24s 66ms/step - loss: 0.5069 - accuracy: 0.8323 - val_loss: 1.6612 - val_accuracy: 0.6129 - lr: 3.1381e-04\n",
            "Epoch 66/100\n",
            "358/358 [==============================] - ETA: 0s - loss: 0.4945 - accuracy: 0.8362\n",
            "Epoch 66: val_loss did not improve from 1.17200\n",
            "358/358 [==============================] - 23s 65ms/step - loss: 0.4945 - accuracy: 0.8362 - val_loss: 1.6949 - val_accuracy: 0.6178 - lr: 3.1381e-04\n"
          ]
        }
      ]
    },
    {
      "cell_type": "code",
      "source": [
        "history.history\n"
      ],
      "metadata": {
        "colab": {
          "base_uri": "https://localhost:8080/"
        },
        "id": "REPa3YCbmaY7",
        "outputId": "9f120f73-fc43-48d0-baaf-4ecb122fd51e"
      },
      "execution_count": 32,
      "outputs": [
        {
          "output_type": "execute_result",
          "data": {
            "text/plain": [
              "{'accuracy': [0.19965945184230804,\n",
              "  0.2382553219795227,\n",
              "  0.24672546982765198,\n",
              "  0.24986901879310608,\n",
              "  0.25144079327583313,\n",
              "  0.2650628685951233,\n",
              "  0.2879846394062042,\n",
              "  0.3123035132884979,\n",
              "  0.3450489044189453,\n",
              "  0.38364478945732117,\n",
              "  0.39918792247772217,\n",
              "  0.4148620367050171,\n",
              "  0.4247293174266815,\n",
              "  0.4284404516220093,\n",
              "  0.43245720863342285,\n",
              "  0.4393119215965271,\n",
              "  0.4454680383205414,\n",
              "  0.44869890809059143,\n",
              "  0.4507509469985962,\n",
              "  0.45756199955940247,\n",
              "  0.4609675109386444,\n",
              "  0.4698742628097534,\n",
              "  0.4682588279247284,\n",
              "  0.4872511327266693,\n",
              "  0.500654935836792,\n",
              "  0.5161107182502747,\n",
              "  0.5285976529121399,\n",
              "  0.5373733639717102,\n",
              "  0.5485941171646118,\n",
              "  0.561081051826477,\n",
              "  0.5684596300125122,\n",
              "  0.5765805244445801,\n",
              "  0.582649290561676,\n",
              "  0.5915560722351074,\n",
              "  0.5987163782119751,\n",
              "  0.6070555448532104,\n",
              "  0.612818717956543,\n",
              "  0.621026873588562,\n",
              "  0.6265281438827515,\n",
              "  0.6349982619285583,\n",
              "  0.6411107182502747,\n",
              "  0.6536849737167358,\n",
              "  0.6648183465003967,\n",
              "  0.6703632473945618,\n",
              "  0.6814530491828918,\n",
              "  0.6973454356193542,\n",
              "  0.6952497363090515,\n",
              "  0.7032832503318787,\n",
              "  0.7096140384674072,\n",
              "  0.7274275422096252,\n",
              "  0.7339329123497009,\n",
              "  0.7439748644828796,\n",
              "  0.7503056526184082,\n",
              "  0.7592996954917908,\n",
              "  0.7692979574203491,\n",
              "  0.7775061130523682,\n",
              "  0.7833566069602966,\n",
              "  0.7889015078544617,\n",
              "  0.7965421080589294,\n",
              "  0.7995546460151672,\n",
              "  0.8081557750701904,\n",
              "  0.8155344128608704,\n",
              "  0.8181976675987244,\n",
              "  0.8291564583778381,\n",
              "  0.8323000073432922,\n",
              "  0.8361858129501343],\n",
              " 'loss': [2.0355019569396973,\n",
              "  1.8577628135681152,\n",
              "  1.833875060081482,\n",
              "  1.8244951963424683,\n",
              "  1.8114639520645142,\n",
              "  1.7889587879180908,\n",
              "  1.7463405132293701,\n",
              "  1.6831458806991577,\n",
              "  1.6156718730926514,\n",
              "  1.5690076351165771,\n",
              "  1.521531581878662,\n",
              "  1.4822218418121338,\n",
              "  1.4480074644088745,\n",
              "  1.422706961631775,\n",
              "  1.4156064987182617,\n",
              "  1.399544596672058,\n",
              "  1.3819732666015625,\n",
              "  1.3726576566696167,\n",
              "  1.349850058555603,\n",
              "  1.3317482471466064,\n",
              "  1.3244566917419434,\n",
              "  1.3106358051300049,\n",
              "  1.310357928276062,\n",
              "  1.2807735204696655,\n",
              "  1.2641867399215698,\n",
              "  1.246073603630066,\n",
              "  1.2229822874069214,\n",
              "  1.214730978012085,\n",
              "  1.1935518980026245,\n",
              "  1.1584997177124023,\n",
              "  1.1344436407089233,\n",
              "  1.1126668453216553,\n",
              "  1.110537052154541,\n",
              "  1.0927162170410156,\n",
              "  1.0677708387374878,\n",
              "  1.0550626516342163,\n",
              "  1.0363671779632568,\n",
              "  1.0187491178512573,\n",
              "  1.0147849321365356,\n",
              "  0.9907724857330322,\n",
              "  0.963412344455719,\n",
              "  0.9432281255722046,\n",
              "  0.9185387492179871,\n",
              "  0.9124139547348022,\n",
              "  0.8856099843978882,\n",
              "  0.8435986638069153,\n",
              "  0.8434475064277649,\n",
              "  0.8269433379173279,\n",
              "  0.8060842156410217,\n",
              "  0.7641003131866455,\n",
              "  0.7443815469741821,\n",
              "  0.7269692420959473,\n",
              "  0.710841953754425,\n",
              "  0.6840558648109436,\n",
              "  0.6649579405784607,\n",
              "  0.640329122543335,\n",
              "  0.6294853687286377,\n",
              "  0.6188671588897705,\n",
              "  0.6035854816436768,\n",
              "  0.5781563520431519,\n",
              "  0.5601176023483276,\n",
              "  0.5476952791213989,\n",
              "  0.5310630202293396,\n",
              "  0.5079168677330017,\n",
              "  0.5068815350532532,\n",
              "  0.49445316195487976],\n",
              " 'lr': [0.001,\n",
              "  0.001,\n",
              "  0.001,\n",
              "  0.001,\n",
              "  0.001,\n",
              "  0.001,\n",
              "  0.001,\n",
              "  0.001,\n",
              "  0.001,\n",
              "  0.001,\n",
              "  0.001,\n",
              "  0.001,\n",
              "  0.001,\n",
              "  0.001,\n",
              "  0.001,\n",
              "  0.001,\n",
              "  0.001,\n",
              "  0.001,\n",
              "  0.001,\n",
              "  0.00090000004,\n",
              "  0.00090000004,\n",
              "  0.00090000004,\n",
              "  0.00090000004,\n",
              "  0.00090000004,\n",
              "  0.00090000004,\n",
              "  0.00090000004,\n",
              "  0.00090000004,\n",
              "  0.00090000004,\n",
              "  0.00090000004,\n",
              "  0.00081000006,\n",
              "  0.00081000006,\n",
              "  0.00081000006,\n",
              "  0.00081000006,\n",
              "  0.00081000006,\n",
              "  0.00081000006,\n",
              "  0.00081000006,\n",
              "  0.00081000006,\n",
              "  0.00081000006,\n",
              "  0.00081000006,\n",
              "  0.0007290001,\n",
              "  0.0007290001,\n",
              "  0.0007290001,\n",
              "  0.00065610005,\n",
              "  0.00065610005,\n",
              "  0.00065610005,\n",
              "  0.00059049006,\n",
              "  0.00059049006,\n",
              "  0.00059049006,\n",
              "  0.00053144107,\n",
              "  0.00053144107,\n",
              "  0.00053144107,\n",
              "  0.00047829695,\n",
              "  0.00047829695,\n",
              "  0.00047829695,\n",
              "  0.00043046725,\n",
              "  0.00043046725,\n",
              "  0.00043046725,\n",
              "  0.00038742053,\n",
              "  0.00038742053,\n",
              "  0.00038742053,\n",
              "  0.00034867847,\n",
              "  0.00034867847,\n",
              "  0.00034867847,\n",
              "  0.00031381063,\n",
              "  0.00031381063,\n",
              "  0.00031381063],\n",
              " 'val_accuracy': [0.2514044940471649,\n",
              "  0.251228928565979,\n",
              "  0.25158005952835083,\n",
              "  0.2508777976036072,\n",
              "  0.25175562500953674,\n",
              "  0.2659761309623718,\n",
              "  0.2808988690376282,\n",
              "  0.32514044642448425,\n",
              "  0.3639396131038666,\n",
              "  0.28897473216056824,\n",
              "  0.3813202381134033,\n",
              "  0.4095856845378876,\n",
              "  0.4216994345188141,\n",
              "  0.4288974702358246,\n",
              "  0.4145013988018036,\n",
              "  0.44030898809432983,\n",
              "  0.4267907440662384,\n",
              "  0.43591994047164917,\n",
              "  0.4432935416698456,\n",
              "  0.45014044642448425,\n",
              "  0.44662922620773315,\n",
              "  0.4840238690376282,\n",
              "  0.4339887499809265,\n",
              "  0.5219452381134033,\n",
              "  0.4929775297641754,\n",
              "  0.534936785697937,\n",
              "  0.5254564881324768,\n",
              "  0.5068469047546387,\n",
              "  0.5284410119056702,\n",
              "  0.5330055952072144,\n",
              "  0.5319522619247437,\n",
              "  0.5533707737922668,\n",
              "  0.5545997023582458,\n",
              "  0.5665379166603088,\n",
              "  0.5567064881324768,\n",
              "  0.574438214302063,\n",
              "  0.5479283928871155,\n",
              "  0.5619733333587646,\n",
              "  0.5723314881324768,\n",
              "  0.5862008333206177,\n",
              "  0.5763694047927856,\n",
              "  0.5658356547355652,\n",
              "  0.5788272619247437,\n",
              "  0.568644642829895,\n",
              "  0.585498571395874,\n",
              "  0.5911165475845337,\n",
              "  0.5916432738304138,\n",
              "  0.5981390476226807,\n",
              "  0.5955055952072144,\n",
              "  0.5893609523773193,\n",
              "  0.6049859523773193,\n",
              "  0.5977879166603088,\n",
              "  0.604459285736084,\n",
              "  0.6091994643211365,\n",
              "  0.617626428604126,\n",
              "  0.6091994643211365,\n",
              "  0.6095505356788635,\n",
              "  0.6158707737922668,\n",
              "  0.6116573214530945,\n",
              "  0.6221910119056702,\n",
              "  0.6197331547737122,\n",
              "  0.6148174405097961,\n",
              "  0.6091994643211365,\n",
              "  0.6148174405097961,\n",
              "  0.6128862500190735,\n",
              "  0.6178019642829895],\n",
              " 'val_loss': [1.8421332836151123,\n",
              "  1.8174848556518555,\n",
              "  1.8156821727752686,\n",
              "  1.805791974067688,\n",
              "  1.8309900760650635,\n",
              "  1.770183801651001,\n",
              "  1.7651630640029907,\n",
              "  1.6235007047653198,\n",
              "  1.5959856510162354,\n",
              "  1.7115302085876465,\n",
              "  1.5470889806747437,\n",
              "  1.4560956954956055,\n",
              "  1.4301400184631348,\n",
              "  1.4004554748535156,\n",
              "  1.444304347038269,\n",
              "  1.3578795194625854,\n",
              "  1.3827251195907593,\n",
              "  1.3766189813613892,\n",
              "  1.363913655281067,\n",
              "  1.33441960811615,\n",
              "  1.3341447114944458,\n",
              "  1.3261218070983887,\n",
              "  1.378465175628662,\n",
              "  1.2563403844833374,\n",
              "  1.2961268424987793,\n",
              "  1.2352443933486938,\n",
              "  1.245701551437378,\n",
              "  1.3109911680221558,\n",
              "  1.2485593557357788,\n",
              "  1.2274994850158691,\n",
              "  1.2530561685562134,\n",
              "  1.215666651725769,\n",
              "  1.1916357278823853,\n",
              "  1.1984504461288452,\n",
              "  1.1902216672897339,\n",
              "  1.1719995737075806,\n",
              "  1.1991382837295532,\n",
              "  1.2477988004684448,\n",
              "  1.182902216911316,\n",
              "  1.1877484321594238,\n",
              "  1.2495726346969604,\n",
              "  1.245724081993103,\n",
              "  1.2710821628570557,\n",
              "  1.2880189418792725,\n",
              "  1.227830410003662,\n",
              "  1.281724452972412,\n",
              "  1.2308030128479004,\n",
              "  1.2485694885253906,\n",
              "  1.2954204082489014,\n",
              "  1.3140013217926025,\n",
              "  1.3910632133483887,\n",
              "  1.3093470335006714,\n",
              "  1.3423634767532349,\n",
              "  1.3416268825531006,\n",
              "  1.4771928787231445,\n",
              "  1.4055358171463013,\n",
              "  1.4052422046661377,\n",
              "  1.4734625816345215,\n",
              "  1.4483717679977417,\n",
              "  1.6251420974731445,\n",
              "  1.5648399591445923,\n",
              "  1.5505930185317993,\n",
              "  1.5740013122558594,\n",
              "  1.5945168733596802,\n",
              "  1.661219596862793,\n",
              "  1.6948726177215576]}"
            ]
          },
          "metadata": {},
          "execution_count": 32
        }
      ]
    },
    {
      "cell_type": "code",
      "source": [
        "new_model = tf.keras.models.load_model('./model.h5')\n"
      ],
      "metadata": {
        "id": "QIGROuUFxgbg"
      },
      "execution_count": 34,
      "outputs": []
    },
    {
      "cell_type": "code",
      "source": [
        "\n",
        "import cv2\n",
        "import tensorflow as tf\n",
        "Categories = ['sad']\n",
        "\n",
        "def prepare(filepath):\n",
        "    Img_size = 48\n",
        "    img_array = cv2.imread(filepath, cv2.IMREAD_GRAYSCALE)\n",
        "    new_array = cv2.resize(img_array,(Img_size,Img_size))\n",
        "    new_array=new_array/255.0\n",
        "    print(new_array)\n",
        "    return new_array.reshape(-1, Img_size, Img_size, 1)\n",
        "prediction = new_model.predict([prepare('/content/test/happy/PrivateTest_10513598.jpg')])\n",
        "print(prediction)\n"
      ],
      "metadata": {
        "colab": {
          "base_uri": "https://localhost:8080/"
        },
        "id": "UTW5yiZExnfF",
        "outputId": "2bfac8e8-da4a-4fe8-aa98-30f10c74ae14"
      },
      "execution_count": 39,
      "outputs": [
        {
          "output_type": "stream",
          "name": "stdout",
          "text": [
            "[[0.88627451 0.8745098  0.55294118 ... 0.04705882 0.12156863 0.11372549]\n",
            " [0.83529412 0.89019608 0.58823529 ... 0.01176471 0.03529412 0.14509804]\n",
            " [0.81960784 0.74117647 0.6627451  ... 0.05098039 0.01960784 0.04705882]\n",
            " ...\n",
            " [0.9372549  0.9372549  0.92941176 ... 0.32156863 0.48627451 0.46666667]\n",
            " [0.9254902  0.93333333 0.93333333 ... 0.35294118 0.48235294 0.44313725]\n",
            " [0.92156863 0.93333333 0.92941176 ... 0.52156863 0.45490196 0.45882353]]\n",
            "[[1.25101311e-02 6.36778641e-05 3.64723578e-02 7.96372056e-01\n",
            "  1.35781495e-02 1.88960019e-03 1.39113963e-01]]\n"
          ]
        }
      ]
    },
    {
      "cell_type": "code",
      "source": [
        "plt.style.use('dark_background')\n",
        "\n",
        "plt.figure(figsize=(20,10))\n",
        "plt.subplot(1, 2, 1)\n",
        "plt.suptitle('Optimizer : Adam', fontsize=10)\n",
        "plt.ylabel('Loss', fontsize=16)\n",
        "plt.plot(history.history['loss'], label='Training Loss')\n",
        "plt.plot(history.history['val_loss'], label='Validation Loss')\n",
        "plt.legend(loc='upper right')\n",
        "\n",
        "plt.subplot(1, 2, 2)\n",
        "plt.ylabel('Accuracy', fontsize=16)\n",
        "plt.plot(history.history['accuracy'], label='Training Accuracy')\n",
        "plt.plot(history.history['val_accuracy'], label='Validation Accuracy')\n",
        "plt.legend(loc='lower right')\n",
        "plt.show()"
      ],
      "metadata": {
        "colab": {
          "base_uri": "https://localhost:8080/",
          "height": 663
        },
        "id": "SkFt70ULyHmQ",
        "outputId": "fbaccb71-7565-4842-b449-cbc6cccf64f1"
      },
      "execution_count": 40,
      "outputs": [
        {
          "output_type": "display_data",
          "data": {
            "text/plain": [
              "<Figure size 1440x720 with 2 Axes>"
            ],
            "image/png": "[encoded data removed]"
          },
          "metadata": {}
        }
      ]
    },
    {
      "cell_type": "code",
      "source": [
        "Y_pred = new_model.predict_generator(test_set)\n",
        "y_pred = np.argmax(Y_pred, axis=1)\n",
        "cm = confusion_matrix(test_set.classes, y_pred)\n",
        "disp = ConfusionMatrixDisplay(confusion_matrix=cm)\n",
        "disp.plot()\n",
        "plt.show()\n",
        "print('angry-0,disgust-1,fear-2,happy-3,neutral-4,sad-5,surprise-6')\n",
        "\n",
        "print(\"Accuracy=\",accuracy_score(test_set.classes, y_pred))\n",
        "print(\"Balanced Accuracy=\",balanced_accuracy_score(test_set.classes, y_pred))"
      ],
      "metadata": {
        "colab": {
          "base_uri": "https://localhost:8080/",
          "height": 386
        },
        "id": "ki0pbeK-xRVq",
        "outputId": "06d593d7-66e4-4206-f2be-5e47a1e5425f"
      },
      "execution_count": 41,
      "outputs": [
        {
          "output_type": "stream",
          "name": "stderr",
          "text": [
            "/usr/local/lib/python3.7/dist-packages/ipykernel_launcher.py:1: UserWarning: `Model.predict_generator` is deprecated and will be removed in a future version. Please use `Model.predict`, which supports generators.\n",
            "  \"\"\"Entry point for launching an IPython kernel.\n"
          ]
        },
        {
          "output_type": "display_data",
          "data": {
            "text/plain": [
              "<Figure size 432x288 with 2 Axes>"
            ],
            "image/png": "[encoded data removed]"
          },
          "metadata": {}
        },
        {
          "output_type": "stream",
          "name": "stdout",
          "text": [
            "angry-0,disgust-1,fear-2,happy-3,neutral-4,sad-5,surprise-6\n",
            "Accuracy= 0.5743939816104765\n",
            "Balanced Accuracy= 0.46962586816567237\n"
          ]
        }
      ]
    },
    {
      "cell_type": "code",
      "source": [
        "target_names = ['angry','disgust','fear','happy','neutral','sad','surprise']\n",
        "print(classification_report(test_set.classes, y_pred, target_names=target_names))\n"
      ],
      "metadata": {
        "colab": {
          "base_uri": "https://localhost:8080/"
        },
        "id": "99F3q-VyC0k2",
        "outputId": "c1766c90-f71f-4490-f4c8-726522e23619"
      },
      "execution_count": 42,
      "outputs": [
        {
          "output_type": "stream",
          "name": "stdout",
          "text": [
            "              precision    recall  f1-score   support\n",
            "\n",
            "       angry       0.53      0.34      0.42       958\n",
            "     disgust       0.00      0.00      0.00       111\n",
            "        fear       0.40      0.24      0.30      1024\n",
            "       happy       0.81      0.85      0.83      1774\n",
            "     neutral       0.51      0.64      0.57      1233\n",
            "         sad       0.38      0.57      0.45      1247\n",
            "    surprise       0.83      0.64      0.72       831\n",
            "\n",
            "    accuracy                           0.57      7178\n",
            "   macro avg       0.49      0.47      0.47      7178\n",
            "weighted avg       0.58      0.57      0.56      7178\n",
            "\n"
          ]
        },
        {
          "output_type": "stream",
          "name": "stderr",
          "text": [
            "/usr/local/lib/python3.7/dist-packages/sklearn/metrics/_classification.py:1318: UndefinedMetricWarning: Precision and F-score are ill-defined and being set to 0.0 in labels with no predicted samples. Use `zero_division` parameter to control this behavior.\n",
            "  _warn_prf(average, modifier, msg_start, len(result))\n",
            "/usr/local/lib/python3.7/dist-packages/sklearn/metrics/_classification.py:1318: UndefinedMetricWarning: Precision and F-score are ill-defined and being set to 0.0 in labels with no predicted samples. Use `zero_division` parameter to control this behavior.\n",
            "  _warn_prf(average, modifier, msg_start, len(result))\n",
            "/usr/local/lib/python3.7/dist-packages/sklearn/metrics/_classification.py:1318: UndefinedMetricWarning: Precision and F-score are ill-defined and being set to 0.0 in labels with no predicted samples. Use `zero_division` parameter to control this behavior.\n",
            "  _warn_prf(average, modifier, msg_start, len(result))\n"
          ]
        }
      ]
    },
    {
      "cell_type": "code",
      "source": [
        "Y_pred = new_model.predict_generator(test_set)\n",
        "y_pred = np.argmax(Y_pred, axis=1)\n",
        "x = confusion_matrix(test_set.classes, y_pred)\n",
        "a1 = x.sum(axis=1)\n",
        "a2 = x.diagonal()\n",
        "print(x)\n",
        "print(a2)\n",
        "print(a1)\n",
        "print(a2/a1)"
      ],
      "metadata": {
        "colab": {
          "base_uri": "https://localhost:8080/"
        },
        "id": "USxmJjwHyKgY",
        "outputId": "cc711312-12f1-428f-b4fa-baa7fa369f57"
      },
      "execution_count": 43,
      "outputs": [
        {
          "output_type": "stream",
          "name": "stderr",
          "text": [
            "/usr/local/lib/python3.7/dist-packages/ipykernel_launcher.py:1: UserWarning: `Model.predict_generator` is deprecated and will be removed in a future version. Please use `Model.predict`, which supports generators.\n",
            "  \"\"\"Entry point for launching an IPython kernel.\n"
          ]
        },
        {
          "output_type": "stream",
          "name": "stdout",
          "text": [
            "[[ 326    0   60   65  128  374    5]\n",
            " [  61    0    9    4    6   31    0]\n",
            " [ 134    0  247   48  140  382   73]\n",
            " [  14    0   50 1515  116   61   18]\n",
            " [  11    0   32   95  790  301    4]\n",
            " [  48    0   65   73  338  715    8]\n",
            " [  18    0  161   64   21   37  530]]\n",
            "[ 326    0  247 1515  790  715  530]\n",
            "[ 958  111 1024 1774 1233 1247  831]\n",
            "[0.34029228 0.         0.24121094 0.85400225 0.64071371 0.5733761\n",
            " 0.6377858 ]\n"
          ]
        }
      ]
    }
  ]
}