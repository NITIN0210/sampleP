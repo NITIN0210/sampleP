{
  "nbformat": 4,
  "nbformat_minor": 0,
  "metadata": {
    "colab": {
      "name": "BestModel1.ipynb",
      "provenance": [],
      "collapsed_sections": [],
      "authorship_tag": "ABX9TyN19rCEkMrYZB+gqPGcpF9x",
      "include_colab_link": true
    },
    "kernelspec": {
      "name": "python3",
      "display_name": "Python 3"
    },
    "language_info": {
      "name": "python"
    },
    "accelerator": "GPU"
  },
  "cells": [
    {
      "cell_type": "markdown",
      "metadata": {
        "id": "view-in-github",
        "colab_type": "text"
      },
      "source": [
        "<a href=\"https://colab.research.google.com/github/NITIN0210/sampleP/blob/master/BestModel1.ipynb\" target=\"_parent\"><img src=\"https://colab.research.google.com/assets/colab-badge.svg\" alt=\"Open In Colab\"/></a>"
      ]
    },
    {
      "cell_type": "code",
      "execution_count": 1,
      "metadata": {
        "id": "eB8XVVqRlYyQ"
      },
      "outputs": [],
      "source": [
        "import matplotlib.pyplot as plt\n",
        "import numpy as np\n",
        "import pandas as pd\n",
        "import seaborn as sns\n",
        "import os\n",
        "\n",
        "# Importing Deep Learning Libraries\n",
        "\n",
        "from keras.preprocessing.image import load_img, img_to_array\n",
        "from keras.preprocessing.image import ImageDataGenerator\n",
        "from keras.layers import Dense,Input,Dropout,GlobalAveragePooling2D,Flatten,Conv2D,BatchNormalization,Activation,MaxPooling2D\n",
        "from keras.models import Model,Sequential\n",
        "from keras.regularizers import l2\n",
        "from tensorflow.keras.optimizers import Adam,SGD,RMSprop\n",
        "\n",
        "from sklearn.metrics import classification_report, confusion_matrix\n",
        "import tensorflow as tf\n",
        "import keras\n",
        "import cv2\n",
        "from skimage.io import imread\n",
        "\n",
        "import numpy as np\n",
        "from keras.preprocessing.image import array_to_img\n",
        "from PIL import Image as ima"
      ]
    },
    {
      "cell_type": "code",
      "source": [
        "from google.colab import files\n",
        "files.upload()"
      ],
      "metadata": {
        "colab": {
          "resources": {
            "http://localhost:8080/nbextensions/google.colab/files.js": {
              "data": "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",
              "ok": true,
              "headers": [
                [
                  "content-type",
                  "application/javascript"
                ]
              ],
              "status": 200,
              "status_text": ""
            }
          },
          "base_uri": "https://localhost:8080/",
          "height": 91
        },
        "id": "a7GMlD0Flck9",
        "outputId": "93e3deec-9923-4646-eae9-446fe14c8835"
      },
      "execution_count": 2,
      "outputs": [
        {
          "output_type": "display_data",
          "data": {
            "text/plain": [
              "<IPython.core.display.HTML object>"
            ],
            "text/html": [
              "\n",
              "     <input type=\"file\" id=\"files-df85b04d-6645-4c06-b35d-c647c8067398\" name=\"files[]\" multiple disabled\n",
              "        style=\"border:none\" />\n",
              "     <output id=\"result-df85b04d-6645-4c06-b35d-c647c8067398\">\n",
              "      Upload widget is only available when the cell has been executed in the\n",
              "      current browser session. Please rerun this cell to enable.\n",
              "      </output>\n",
              "      <script src=\"/nbextensions/google.colab/files.js\"></script> "
            ]
          },
          "metadata": {}
        },
        {
          "output_type": "stream",
          "name": "stdout",
          "text": [
            "Saving kaggle.json to kaggle.json\n"
          ]
        },
        {
          "output_type": "execute_result",
          "data": {
            "text/plain": [
              "{'kaggle.json': b'{\"username\":\"nitin2k\",\"key\":\"f757bb15b1064ada9159e8226c9a7da7\"}'}"
            ]
          },
          "metadata": {},
          "execution_count": 2
        }
      ]
    },
    {
      "cell_type": "code",
      "source": [
        "!mkdir -p ~/.kaggle\n",
        "!cp kaggle.json ~/.kaggle/\n",
        "\n",
        "!chmod 600 ~/.kaggle/kaggle.json"
      ],
      "metadata": {
        "id": "9eKP36v8ljLB"
      },
      "execution_count": 3,
      "outputs": []
    },
    {
      "cell_type": "code",
      "source": [
        "!kaggle datasets download -d msambare/fer2013"
      ],
      "metadata": {
        "colab": {
          "base_uri": "https://localhost:8080/"
        },
        "id": "H9rSLZtnlok7",
        "outputId": "a84a1c10-23a7-4cd0-9abc-14f5ba3b7a22"
      },
      "execution_count": 4,
      "outputs": [
        {
          "output_type": "stream",
          "name": "stdout",
          "text": [
            "Downloading fer2013.zip to /content\n",
            " 98% 59.0M/60.3M [00:00<00:00, 181MB/s]\n",
            "100% 60.3M/60.3M [00:00<00:00, 148MB/s]\n"
          ]
        }
      ]
    },
    {
      "cell_type": "code",
      "source": [
        "from zipfile import ZipFile\n",
        "file_name = 'fer2013.zip'\n",
        "\n",
        "with ZipFile(file_name,'r') as zip:\n",
        "    zip.extractall()\n",
        "print(\"done\")"
      ],
      "metadata": {
        "colab": {
          "base_uri": "https://localhost:8080/"
        },
        "id": "xfMf3TpclriP",
        "outputId": "79b33800-0467-43b9-dac3-ce2e5947d3a8"
      },
      "execution_count": 5,
      "outputs": [
        {
          "output_type": "stream",
          "name": "stdout",
          "text": [
            "done\n"
          ]
        }
      ]
    },
    {
      "cell_type": "code",
      "source": [
        "picture_size = 48\n",
        "train_folder_path = \"train/\"\n",
        "test_folder_path = \"test/\""
      ],
      "metadata": {
        "id": "zI3WfO_DltNk"
      },
      "execution_count": 6,
      "outputs": []
    },
    {
      "cell_type": "code",
      "source": [
        "expression = 'happy'\n",
        "\n",
        "plt.figure(figsize= (12,12))\n",
        "for i in range(1, 10, 1):\n",
        "    plt.subplot(3,3,i)\n",
        "    img = load_img(train_folder_path+expression+\"/\"+os.listdir(train_folder_path+expression)[i], target_size=(picture_size, picture_size))\n",
        "    plt.imshow(img)   \n",
        "plt.show()\n",
        "im = imread(\"/content/test/fear/PrivateTest_10153550.jpg\")\n",
        "print(im,type(im))\n",
        "data = ima.fromarray(im)\n",
        "data"
      ],
      "metadata": {
        "colab": {
          "base_uri": "https://localhost:8080/",
          "height": 871
        },
        "id": "CP2op0aUltda",
        "outputId": "29915f79-b12f-44fa-e565-cedc0f07b6bf"
      },
      "execution_count": 8,
      "outputs": [
        {
          "output_type": "display_data",
          "data": {
            "text/plain": [
              "<Figure size 864x864 with 9 Axes>"
            ],
            "image/png": "[encoded data removed]"
          },
          "metadata": {
            "needs_background": "light"
          }
        },
        {
          "output_type": "stream",
          "name": "stdout",
          "text": [
            "[[255 255 255 ... 116  88  47]\n",
            " [255 255 255 ...  51  83  94]\n",
            " [255 255 255 ...  62  74  73]\n",
            " ...\n",
            " [216 224 217 ... 195 194 192]\n",
            " [227 222 209 ... 173 176 173]\n",
            " [227 210 196 ... 138 136 146]] <class 'numpy.ndarray'>\n"
          ]
        },
        {
          "output_type": "execute_result",
          "data": {
            "text/plain": [
              "<PIL.Image.Image image mode=L size=48x48 at 0x7F3F01FFB250>"
            ],
            "image/png": "[encoded data removed]"
          },
          "metadata": {},
          "execution_count": 8
        }
      ]
    },
    {
      "cell_type": "code",
      "source": [
        "batch_size  = 64\n",
        "\n",
        "\n",
        "datagen_train  = ImageDataGenerator(rescale=1.0/255.0)\n",
        "datagen_val = ImageDataGenerator(rescale=1.0/255.0)\n",
        "\n",
        "train_set = datagen_train.flow_from_directory(train_folder_path,target_size = (picture_size,picture_size),color_mode = \"grayscale\",batch_size=batch_size,class_mode='categorical',shuffle=True)\n",
        "\n",
        "#classes=['surprise','happy']\n",
        "test_set = datagen_val.flow_from_directory(test_folder_path,target_size = (picture_size,picture_size),color_mode = \"grayscale\",batch_size=batch_size,class_mode='categorical',shuffle=False)\n",
        "train_folder_path\n",
        "type(train_set)"
      ],
      "metadata": {
        "colab": {
          "base_uri": "https://localhost:8080/"
        },
        "id": "oo3s7f60lysL",
        "outputId": "6e6b7624-c402-444f-93aa-73659a9587b0"
      },
      "execution_count": 9,
      "outputs": [
        {
          "output_type": "stream",
          "name": "stdout",
          "text": [
            "Found 28709 images belonging to 7 classes.\n",
            "Found 7178 images belonging to 7 classes.\n"
          ]
        },
        {
          "output_type": "execute_result",
          "data": {
            "text/plain": [
              "keras.preprocessing.image.DirectoryIterator"
            ]
          },
          "metadata": {},
          "execution_count": 9
        }
      ]
    },
    {
      "cell_type": "code",
      "source": [
        "dataset = tf.data.Dataset.from_generator(\n",
        "    lambda: train_set,\n",
        "    output_types = (tf.float32, tf.float32),\n",
        "    output_shapes = ([None, 48, 48, 1], [None,7]),\n",
        ")\n",
        "#print(dataset)\n",
        "#print((list(dataset.take(1).as_numpy_iterator())[0][0]).shape)\n",
        "#dataset.shape\n"
      ],
      "metadata": {
        "id": "fXFGIlH2l-2S"
      },
      "execution_count": 10,
      "outputs": []
    },
    {
      "cell_type": "code",
      "source": [
        "plt.figure(figsize= (12,12))\n",
        "for i in range(1,64):\n",
        "    plt.subplot(12,12,i)\n",
        "    \n",
        "    x = (list(dataset.take(2).as_numpy_iterator())[0][0][i]).reshape(48,48)\n",
        "    x = x.astype(np.uint8)#converting float to 0-255\n",
        "    data = ima.fromarray(x)\n",
        "    data\n",
        "    plt.imshow(data,cmap='gray')   \n",
        "plt.show()\n"
      ],
      "metadata": {
        "colab": {
          "base_uri": "https://localhost:8080/",
          "height": 373
        },
        "id": "lLLYaAzOmCJI",
        "outputId": "0c4d79a2-8c97-4d5a-8822-04270798490a"
      },
      "execution_count": 11,
      "outputs": [
        {
          "output_type": "display_data",
          "data": {
            "text/plain": [
              "<Figure size 864x864 with 63 Axes>"
            ],
            "image/png": "[encoded data removed]"
          },
          "metadata": {
            "needs_background": "light"
          }
        }
      ]
    },
    {
      "cell_type": "code",
      "source": [
        "\n",
        "im = imread(\"/content/test/fear/PrivateTest_10153550.jpg\")\n",
        "print(im,type(im))\n",
        "data = ima.fromarray(im)\n",
        "data"
      ],
      "metadata": {
        "colab": {
          "base_uri": "https://localhost:8080/",
          "height": 186
        },
        "id": "3v8duavxmEcI",
        "outputId": "8175d2de-ef16-4937-d585-f8312d12f76e"
      },
      "execution_count": 12,
      "outputs": [
        {
          "output_type": "stream",
          "name": "stdout",
          "text": [
            "[[255 255 255 ... 116  88  47]\n",
            " [255 255 255 ...  51  83  94]\n",
            " [255 255 255 ...  62  74  73]\n",
            " ...\n",
            " [216 224 217 ... 195 194 192]\n",
            " [227 222 209 ... 173 176 173]\n",
            " [227 210 196 ... 138 136 146]] <class 'numpy.ndarray'>\n"
          ]
        },
        {
          "output_type": "execute_result",
          "data": {
            "text/plain": [
              "<PIL.Image.Image image mode=L size=48x48 at 0x7F3E6E5AAC90>"
            ],
            "image/png": "[encoded data removed]"
          },
          "metadata": {},
          "execution_count": 12
        }
      ]
    },
    {
      "cell_type": "code",
      "source": [
        "\n",
        "from tensorflow.keras.optimizers import Adam,SGD,RMSprop\n",
        "\n",
        "\n",
        "no_of_classes = 7\n",
        "\n",
        "model = Sequential()\n",
        "\n",
        "model.add(Conv2D(64, (3, 3), activation='relu', input_shape=(48, 48, 1), kernel_regularizer=l2(0.01)))\n",
        "model.add(Conv2D(64, (3, 3), padding='same',activation='relu'))\n",
        "model.add(BatchNormalization())\n",
        "model.add(MaxPooling2D(pool_size=(2,2), strides=(2, 2)))\n",
        "model.add(Dropout(0.5))    \n",
        "model.add(Conv2D(128, (3, 3), padding='same', activation='relu'))\n",
        "model.add(BatchNormalization())\n",
        "model.add(Conv2D(128, (3, 3), padding='same', activation='relu'))\n",
        "model.add(BatchNormalization())\n",
        "model.add(Conv2D(128, (3, 3), padding='same', activation='relu'))\n",
        "model.add(BatchNormalization())\n",
        "model.add(MaxPooling2D(pool_size=(2,2)))\n",
        "model.add(Dropout(0.5))    \n",
        "model.add(Conv2D(256, (3, 3), padding='same', activation='relu'))\n",
        "model.add(BatchNormalization())\n",
        "model.add(Conv2D(256, (3, 3), padding='same', activation='relu'))\n",
        "model.add(BatchNormalization())\n",
        "model.add(Conv2D(256, (3, 3), padding='same', activation='relu'))\n",
        "model.add(BatchNormalization())\n",
        "model.add(MaxPooling2D(pool_size=(2,2)))\n",
        "model.add(Dropout(0.5))    \n",
        "model.add(Conv2D(512, (3, 3), padding='same', activation='relu'))\n",
        "model.add(BatchNormalization())\n",
        "model.add(Conv2D(512, (3, 3), padding='same', activation='relu'))\n",
        "model.add(BatchNormalization())\n",
        "model.add(Conv2D(512, (3, 3), padding='same', activation='relu'))\n",
        "model.add(BatchNormalization())\n",
        "model.add(MaxPooling2D(pool_size=(2,2)))\n",
        "model.add(Dropout(0.5))    \n",
        "model.add(Flatten())\n",
        "model.add(Dense(512, activation='relu'))\n",
        "model.add(Dropout(0.5))\n",
        "model.add(Dense(256, activation='relu'))\n",
        "model.add(Dropout(0.5))\n",
        "model.add(Dense(128, activation='relu'))\n",
        "model.add(Dropout(0.5))\n",
        "model.add(Dense(64, activation='relu'))\n",
        "model.add(Dropout(0.5))\n",
        "model.add(Dense(7, activation='softmax'))\n",
        "\n",
        "\n",
        "opt = Adam(lr = 0.001)\n",
        "model.compile(optimizer=opt,loss='categorical_crossentropy', metrics=['accuracy'])\n",
        "model.summary()"
      ],
      "metadata": {
        "colab": {
          "base_uri": "https://localhost:8080/"
        },
        "id": "9MXAUwB2mMvy",
        "outputId": "74fa752b-6d3e-47b6-ca1a-1da52b255890"
      },
      "execution_count": 13,
      "outputs": [
        {
          "output_type": "stream",
          "name": "stdout",
          "text": [
            "Model: \"sequential\"\n",
            "_________________________________________________________________\n",
            " Layer (type)                Output Shape              Param #   \n",
            "=================================================================\n",
            " conv2d (Conv2D)             (None, 46, 46, 64)        640       \n",
            "                                                                 \n",
            " conv2d_1 (Conv2D)           (None, 46, 46, 64)        36928     \n",
            "                                                                 \n",
            " batch_normalization (BatchN  (None, 46, 46, 64)       256       \n",
            " ormalization)                                                   \n",
            "                                                                 \n",
            " max_pooling2d (MaxPooling2D  (None, 23, 23, 64)       0         \n",
            " )                                                               \n",
            "                                                                 \n",
            " dropout (Dropout)           (None, 23, 23, 64)        0         \n",
            "                                                                 \n",
            " conv2d_2 (Conv2D)           (None, 23, 23, 128)       73856     \n",
            "                                                                 \n",
            " batch_normalization_1 (Batc  (None, 23, 23, 128)      512       \n",
            " hNormalization)                                                 \n",
            "                                                                 \n",
            " conv2d_3 (Conv2D)           (None, 23, 23, 128)       147584    \n",
            "                                                                 \n",
            " batch_normalization_2 (Batc  (None, 23, 23, 128)      512       \n",
            " hNormalization)                                                 \n",
            "                                                                 \n",
            " conv2d_4 (Conv2D)           (None, 23, 23, 128)       147584    \n",
            "                                                                 \n",
            " batch_normalization_3 (Batc  (None, 23, 23, 128)      512       \n",
            " hNormalization)                                                 \n",
            "                                                                 \n",
            " max_pooling2d_1 (MaxPooling  (None, 11, 11, 128)      0         \n",
            " 2D)                                                             \n",
            "                                                                 \n",
            " dropout_1 (Dropout)         (None, 11, 11, 128)       0         \n",
            "                                                                 \n",
            " conv2d_5 (Conv2D)           (None, 11, 11, 256)       295168    \n",
            "                                                                 \n",
            " batch_normalization_4 (Batc  (None, 11, 11, 256)      1024      \n",
            " hNormalization)                                                 \n",
            "                                                                 \n",
            " conv2d_6 (Conv2D)           (None, 11, 11, 256)       590080    \n",
            "                                                                 \n",
            " batch_normalization_5 (Batc  (None, 11, 11, 256)      1024      \n",
            " hNormalization)                                                 \n",
            "                                                                 \n",
            " conv2d_7 (Conv2D)           (None, 11, 11, 256)       590080    \n",
            "                                                                 \n",
            " batch_normalization_6 (Batc  (None, 11, 11, 256)      1024      \n",
            " hNormalization)                                                 \n",
            "                                                                 \n",
            " max_pooling2d_2 (MaxPooling  (None, 5, 5, 256)        0         \n",
            " 2D)                                                             \n",
            "                                                                 \n",
            " dropout_2 (Dropout)         (None, 5, 5, 256)         0         \n",
            "                                                                 \n",
            " conv2d_8 (Conv2D)           (None, 5, 5, 512)         1180160   \n",
            "                                                                 \n",
            " batch_normalization_7 (Batc  (None, 5, 5, 512)        2048      \n",
            " hNormalization)                                                 \n",
            "                                                                 \n",
            " conv2d_9 (Conv2D)           (None, 5, 5, 512)         2359808   \n",
            "                                                                 \n",
            " batch_normalization_8 (Batc  (None, 5, 5, 512)        2048      \n",
            " hNormalization)                                                 \n",
            "                                                                 \n",
            " conv2d_10 (Conv2D)          (None, 5, 5, 512)         2359808   \n",
            "                                                                 \n",
            " batch_normalization_9 (Batc  (None, 5, 5, 512)        2048      \n",
            " hNormalization)                                                 \n",
            "                                                                 \n",
            " max_pooling2d_3 (MaxPooling  (None, 2, 2, 512)        0         \n",
            " 2D)                                                             \n",
            "                                                                 \n",
            " dropout_3 (Dropout)         (None, 2, 2, 512)         0         \n",
            "                                                                 \n",
            " flatten (Flatten)           (None, 2048)              0         \n",
            "                                                                 \n",
            " dense (Dense)               (None, 512)               1049088   \n",
            "                                                                 \n",
            " dropout_4 (Dropout)         (None, 512)               0         \n",
            "                                                                 \n",
            " dense_1 (Dense)             (None, 256)               131328    \n",
            "                                                                 \n",
            " dropout_5 (Dropout)         (None, 256)               0         \n",
            "                                                                 \n",
            " dense_2 (Dense)             (None, 128)               32896     \n",
            "                                                                 \n",
            " dropout_6 (Dropout)         (None, 128)               0         \n",
            "                                                                 \n",
            " dense_3 (Dense)             (None, 64)                8256      \n",
            "                                                                 \n",
            " dropout_7 (Dropout)         (None, 64)                0         \n",
            "                                                                 \n",
            " dense_4 (Dense)             (None, 7)                 455       \n",
            "                                                                 \n",
            "=================================================================\n",
            "Total params: 9,014,727\n",
            "Trainable params: 9,009,223\n",
            "Non-trainable params: 5,504\n",
            "_________________________________________________________________\n"
          ]
        },
        {
          "output_type": "stream",
          "name": "stderr",
          "text": [
            "/usr/local/lib/python3.7/dist-packages/keras/optimizer_v2/adam.py:105: UserWarning: The `lr` argument is deprecated, use `learning_rate` instead.\n",
            "  super(Adam, self).__init__(name, **kwargs)\n"
          ]
        }
      ]
    },
    {
      "cell_type": "code",
      "source": [
        "from keras.callbacks import ModelCheckpoint, EarlyStopping, ReduceLROnPlateau\n",
        "\n",
        "lr_reducer = ReduceLROnPlateau(monitor='val_loss', factor=0.9, patience=3)\n",
        "early_stopper = EarlyStopping(monitor='val_accuracy', min_delta=0, patience=6, mode='auto')\n",
        "checkpointer = ModelCheckpoint('./model.h5', monitor='val_loss', verbose=1, save_best_only=True)\n"
      ],
      "metadata": {
        "id": "5TPrpoVTmNpf"
      },
      "execution_count": 17,
      "outputs": []
    },
    {
      "cell_type": "code",
      "source": [
        "epochs = 100\n",
        "history = model.fit(train_set,steps_per_epoch=train_set.n//train_set.batch_size,epochs=epochs,validation_data = test_set,validation_steps = test_set.n//test_set.batch_size,callbacks=[lr_reducer, checkpointer, early_stopper])\n",
        "#model.fit(train_data,train_labels,epochs = epochs,batch_size = batch_size,validation_split = 0.2,shuffle = True,callbacks=[lr_reducer, checkpointer, early_stopper])\n",
        "\n",
        "#history = model.fit_generator(generator=train_set,steps_per_epoch=train_set.n//train_set.batch_size,epochs=epochs,validation_data = test_set,validation_steps = test_set.n//test_set.batch_size,callbacks=callbacks_list)\n",
        "#model.summary()"
      ],
      "metadata": {
        "colab": {
          "base_uri": "https://localhost:8080/"
        },
        "id": "Soo8bHw9mRHX",
        "outputId": "40b2dfc1-e4f2-4040-c995-555dc07b0422"
      },
      "execution_count": 20,
      "outputs": [
        {
          "output_type": "stream",
          "name": "stdout",
          "text": [
            "Epoch 1/100\n",
            "448/448 [==============================] - ETA: 0s - loss: 1.8144 - accuracy: 0.2515\n",
            "Epoch 1: val_loss improved from inf to 1.80501, saving model to ./model.h5\n",
            "448/448 [==============================] - 31s 69ms/step - loss: 1.8144 - accuracy: 0.2515 - val_loss: 1.8050 - val_accuracy: 0.2483 - lr: 0.0010\n",
            "Epoch 2/100\n",
            "448/448 [==============================] - ETA: 0s - loss: 1.8081 - accuracy: 0.2507\n",
            "Epoch 2: val_loss improved from 1.80501 to 1.80072, saving model to ./model.h5\n",
            "448/448 [==============================] - 30s 68ms/step - loss: 1.8081 - accuracy: 0.2507 - val_loss: 1.8007 - val_accuracy: 0.2475 - lr: 0.0010\n",
            "Epoch 3/100\n",
            "448/448 [==============================] - ETA: 0s - loss: 1.7987 - accuracy: 0.2523\n",
            "Epoch 3: val_loss improved from 1.80072 to 1.78580, saving model to ./model.h5\n",
            "448/448 [==============================] - 30s 68ms/step - loss: 1.7987 - accuracy: 0.2523 - val_loss: 1.7858 - val_accuracy: 0.2715 - lr: 0.0010\n",
            "Epoch 4/100\n",
            "448/448 [==============================] - ETA: 0s - loss: 1.7763 - accuracy: 0.2688\n",
            "Epoch 4: val_loss improved from 1.78580 to 1.77597, saving model to ./model.h5\n",
            "448/448 [==============================] - 31s 69ms/step - loss: 1.7763 - accuracy: 0.2688 - val_loss: 1.7760 - val_accuracy: 0.2741 - lr: 0.0010\n",
            "Epoch 5/100\n",
            "448/448 [==============================] - ETA: 0s - loss: 1.7468 - accuracy: 0.2857\n",
            "Epoch 5: val_loss improved from 1.77597 to 1.73507, saving model to ./model.h5\n",
            "448/448 [==============================] - 31s 69ms/step - loss: 1.7468 - accuracy: 0.2857 - val_loss: 1.7351 - val_accuracy: 0.2864 - lr: 0.0010\n",
            "Epoch 6/100\n",
            "448/448 [==============================] - ETA: 0s - loss: 1.7237 - accuracy: 0.2959\n",
            "Epoch 6: val_loss improved from 1.73507 to 1.70159, saving model to ./model.h5\n",
            "448/448 [==============================] - 31s 69ms/step - loss: 1.7237 - accuracy: 0.2959 - val_loss: 1.7016 - val_accuracy: 0.3018 - lr: 0.0010\n",
            "Epoch 7/100\n",
            "448/448 [==============================] - ETA: 0s - loss: 1.6686 - accuracy: 0.3150\n",
            "Epoch 7: val_loss improved from 1.70159 to 1.63132, saving model to ./model.h5\n",
            "448/448 [==============================] - 31s 69ms/step - loss: 1.6686 - accuracy: 0.3150 - val_loss: 1.6313 - val_accuracy: 0.3551 - lr: 0.0010\n",
            "Epoch 8/100\n",
            "448/448 [==============================] - ETA: 0s - loss: 1.6010 - accuracy: 0.3528\n",
            "Epoch 8: val_loss improved from 1.63132 to 1.51315, saving model to ./model.h5\n",
            "448/448 [==============================] - 31s 70ms/step - loss: 1.6010 - accuracy: 0.3528 - val_loss: 1.5131 - val_accuracy: 0.4120 - lr: 0.0010\n",
            "Epoch 9/100\n",
            "448/448 [==============================] - ETA: 0s - loss: 1.5368 - accuracy: 0.3881\n",
            "Epoch 9: val_loss improved from 1.51315 to 1.47745, saving model to ./model.h5\n",
            "448/448 [==============================] - 31s 69ms/step - loss: 1.5368 - accuracy: 0.3881 - val_loss: 1.4774 - val_accuracy: 0.4078 - lr: 0.0010\n",
            "Epoch 10/100\n",
            "448/448 [==============================] - ETA: 0s - loss: 1.5016 - accuracy: 0.4099\n",
            "Epoch 10: val_loss did not improve from 1.47745\n",
            "448/448 [==============================] - 31s 69ms/step - loss: 1.5016 - accuracy: 0.4099 - val_loss: 1.4779 - val_accuracy: 0.4100 - lr: 0.0010\n",
            "Epoch 11/100\n",
            "448/448 [==============================] - ETA: 0s - loss: 1.4609 - accuracy: 0.4218\n",
            "Epoch 11: val_loss improved from 1.47745 to 1.42436, saving model to ./model.h5\n",
            "448/448 [==============================] - 31s 70ms/step - loss: 1.4609 - accuracy: 0.4218 - val_loss: 1.4244 - val_accuracy: 0.4287 - lr: 0.0010\n",
            "Epoch 12/100\n",
            "448/448 [==============================] - ETA: 0s - loss: 1.4437 - accuracy: 0.4254\n",
            "Epoch 12: val_loss did not improve from 1.42436\n",
            "448/448 [==============================] - 31s 69ms/step - loss: 1.4437 - accuracy: 0.4254 - val_loss: 1.4319 - val_accuracy: 0.4217 - lr: 0.0010\n",
            "Epoch 13/100\n",
            "448/448 [==============================] - ETA: 0s - loss: 1.4089 - accuracy: 0.4354\n",
            "Epoch 13: val_loss did not improve from 1.42436\n",
            "448/448 [==============================] - 31s 69ms/step - loss: 1.4089 - accuracy: 0.4354 - val_loss: 1.4262 - val_accuracy: 0.4233 - lr: 0.0010\n",
            "Epoch 14/100\n",
            "448/448 [==============================] - ETA: 0s - loss: 1.3970 - accuracy: 0.4434\n",
            "Epoch 14: val_loss improved from 1.42436 to 1.34136, saving model to ./model.h5\n",
            "448/448 [==============================] - 31s 69ms/step - loss: 1.3970 - accuracy: 0.4434 - val_loss: 1.3414 - val_accuracy: 0.4481 - lr: 0.0010\n",
            "Epoch 15/100\n",
            "448/448 [==============================] - ETA: 0s - loss: 1.3769 - accuracy: 0.4432\n",
            "Epoch 15: val_loss did not improve from 1.34136\n",
            "448/448 [==============================] - 31s 68ms/step - loss: 1.3769 - accuracy: 0.4432 - val_loss: 1.3970 - val_accuracy: 0.4277 - lr: 0.0010\n",
            "Epoch 16/100\n",
            "448/448 [==============================] - ETA: 0s - loss: 1.3649 - accuracy: 0.4461\n",
            "Epoch 16: val_loss did not improve from 1.34136\n",
            "448/448 [==============================] - 31s 69ms/step - loss: 1.3649 - accuracy: 0.4461 - val_loss: 1.3986 - val_accuracy: 0.4428 - lr: 0.0010\n",
            "Epoch 17/100\n",
            "448/448 [==============================] - ETA: 0s - loss: 1.3440 - accuracy: 0.4576\n",
            "Epoch 17: val_loss did not improve from 1.34136\n",
            "448/448 [==============================] - 31s 69ms/step - loss: 1.3440 - accuracy: 0.4576 - val_loss: 1.5344 - val_accuracy: 0.3749 - lr: 0.0010\n",
            "Epoch 18/100\n",
            "448/448 [==============================] - ETA: 0s - loss: 1.3176 - accuracy: 0.4752\n",
            "Epoch 18: val_loss did not improve from 1.34136\n",
            "448/448 [==============================] - 31s 69ms/step - loss: 1.3176 - accuracy: 0.4752 - val_loss: 1.3443 - val_accuracy: 0.4756 - lr: 9.0000e-04\n",
            "Epoch 19/100\n",
            "448/448 [==============================] - ETA: 0s - loss: 1.3044 - accuracy: 0.4945\n",
            "Epoch 19: val_loss improved from 1.34136 to 1.31403, saving model to ./model.h5\n",
            "448/448 [==============================] - 31s 70ms/step - loss: 1.3044 - accuracy: 0.4945 - val_loss: 1.3140 - val_accuracy: 0.4926 - lr: 9.0000e-04\n",
            "Epoch 20/100\n",
            "448/448 [==============================] - ETA: 0s - loss: 1.2744 - accuracy: 0.5090\n",
            "Epoch 20: val_loss improved from 1.31403 to 1.26084, saving model to ./model.h5\n",
            "448/448 [==============================] - 31s 70ms/step - loss: 1.2744 - accuracy: 0.5090 - val_loss: 1.2608 - val_accuracy: 0.5262 - lr: 9.0000e-04\n",
            "Epoch 21/100\n",
            "448/448 [==============================] - ETA: 0s - loss: 1.2461 - accuracy: 0.5223\n",
            "Epoch 21: val_loss did not improve from 1.26084\n",
            "448/448 [==============================] - 31s 69ms/step - loss: 1.2461 - accuracy: 0.5223 - val_loss: 1.3168 - val_accuracy: 0.5042 - lr: 9.0000e-04\n",
            "Epoch 22/100\n",
            "448/448 [==============================] - ETA: 0s - loss: 1.2249 - accuracy: 0.5377\n",
            "Epoch 22: val_loss improved from 1.26084 to 1.25431, saving model to ./model.h5\n",
            "448/448 [==============================] - 31s 70ms/step - loss: 1.2249 - accuracy: 0.5377 - val_loss: 1.2543 - val_accuracy: 0.5382 - lr: 9.0000e-04\n",
            "Epoch 23/100\n",
            "448/448 [==============================] - ETA: 0s - loss: 1.2049 - accuracy: 0.5437\n",
            "Epoch 23: val_loss improved from 1.25431 to 1.25358, saving model to ./model.h5\n",
            "448/448 [==============================] - 31s 70ms/step - loss: 1.2049 - accuracy: 0.5437 - val_loss: 1.2536 - val_accuracy: 0.5377 - lr: 9.0000e-04\n",
            "Epoch 24/100\n",
            "448/448 [==============================] - ETA: 0s - loss: 1.1776 - accuracy: 0.5557\n",
            "Epoch 24: val_loss improved from 1.25358 to 1.21172, saving model to ./model.h5\n",
            "448/448 [==============================] - 31s 70ms/step - loss: 1.1776 - accuracy: 0.5557 - val_loss: 1.2117 - val_accuracy: 0.5497 - lr: 9.0000e-04\n",
            "Epoch 25/100\n",
            "448/448 [==============================] - ETA: 0s - loss: 1.1565 - accuracy: 0.5682\n",
            "Epoch 25: val_loss did not improve from 1.21172\n",
            "448/448 [==============================] - 31s 69ms/step - loss: 1.1565 - accuracy: 0.5682 - val_loss: 1.2234 - val_accuracy: 0.5354 - lr: 9.0000e-04\n",
            "Epoch 26/100\n",
            "448/448 [==============================] - ETA: 0s - loss: 1.1320 - accuracy: 0.5763\n",
            "Epoch 26: val_loss did not improve from 1.21172\n",
            "448/448 [==============================] - 31s 69ms/step - loss: 1.1320 - accuracy: 0.5763 - val_loss: 1.2209 - val_accuracy: 0.5439 - lr: 9.0000e-04\n",
            "Epoch 27/100\n",
            "448/448 [==============================] - ETA: 0s - loss: 1.1194 - accuracy: 0.5855\n",
            "Epoch 27: val_loss improved from 1.21172 to 1.16551, saving model to ./model.h5\n",
            "448/448 [==============================] - 31s 69ms/step - loss: 1.1194 - accuracy: 0.5855 - val_loss: 1.1655 - val_accuracy: 0.5699 - lr: 9.0000e-04\n",
            "Epoch 28/100\n",
            "448/448 [==============================] - ETA: 0s - loss: 1.0932 - accuracy: 0.5932\n",
            "Epoch 28: val_loss did not improve from 1.16551\n",
            "448/448 [==============================] - 31s 69ms/step - loss: 1.0932 - accuracy: 0.5932 - val_loss: 1.2257 - val_accuracy: 0.5523 - lr: 9.0000e-04\n",
            "Epoch 29/100\n",
            "448/448 [==============================] - ETA: 0s - loss: 1.0761 - accuracy: 0.6005\n",
            "Epoch 29: val_loss did not improve from 1.16551\n",
            "448/448 [==============================] - 31s 68ms/step - loss: 1.0761 - accuracy: 0.6005 - val_loss: 1.1667 - val_accuracy: 0.5753 - lr: 9.0000e-04\n",
            "Epoch 30/100\n",
            "448/448 [==============================] - ETA: 0s - loss: 1.0557 - accuracy: 0.6134\n",
            "Epoch 30: val_loss did not improve from 1.16551\n",
            "448/448 [==============================] - 31s 69ms/step - loss: 1.0557 - accuracy: 0.6134 - val_loss: 1.2575 - val_accuracy: 0.5559 - lr: 9.0000e-04\n",
            "Epoch 31/100\n",
            "448/448 [==============================] - ETA: 0s - loss: 1.0333 - accuracy: 0.6228\n",
            "Epoch 31: val_loss did not improve from 1.16551\n",
            "448/448 [==============================] - 31s 69ms/step - loss: 1.0333 - accuracy: 0.6228 - val_loss: 1.1957 - val_accuracy: 0.5592 - lr: 8.1000e-04\n",
            "Epoch 32/100\n",
            "448/448 [==============================] - ETA: 0s - loss: 1.0092 - accuracy: 0.6332\n",
            "Epoch 32: val_loss improved from 1.16551 to 1.12913, saving model to ./model.h5\n",
            "448/448 [==============================] - 31s 69ms/step - loss: 1.0092 - accuracy: 0.6332 - val_loss: 1.1291 - val_accuracy: 0.5944 - lr: 8.1000e-04\n",
            "Epoch 33/100\n",
            "448/448 [==============================] - ETA: 0s - loss: 0.9809 - accuracy: 0.6445\n",
            "Epoch 33: val_loss did not improve from 1.12913\n",
            "448/448 [==============================] - 31s 69ms/step - loss: 0.9809 - accuracy: 0.6445 - val_loss: 1.1571 - val_accuracy: 0.5974 - lr: 8.1000e-04\n",
            "Epoch 34/100\n",
            "448/448 [==============================] - ETA: 0s - loss: 0.9678 - accuracy: 0.6492\n",
            "Epoch 34: val_loss did not improve from 1.12913\n",
            "448/448 [==============================] - 31s 69ms/step - loss: 0.9678 - accuracy: 0.6492 - val_loss: 1.1928 - val_accuracy: 0.5940 - lr: 8.1000e-04\n",
            "Epoch 35/100\n",
            "448/448 [==============================] - ETA: 0s - loss: 0.9498 - accuracy: 0.6590\n",
            "Epoch 35: val_loss did not improve from 1.12913\n",
            "448/448 [==============================] - 31s 69ms/step - loss: 0.9498 - accuracy: 0.6590 - val_loss: 1.1619 - val_accuracy: 0.6018 - lr: 8.1000e-04\n",
            "Epoch 36/100\n",
            "448/448 [==============================] - ETA: 0s - loss: 0.9172 - accuracy: 0.6733\n",
            "Epoch 36: val_loss did not improve from 1.12913\n",
            "448/448 [==============================] - 31s 69ms/step - loss: 0.9172 - accuracy: 0.6733 - val_loss: 1.2705 - val_accuracy: 0.5753 - lr: 7.2900e-04\n",
            "Epoch 37/100\n",
            "448/448 [==============================] - ETA: 0s - loss: 0.9022 - accuracy: 0.6790\n",
            "Epoch 37: val_loss did not improve from 1.12913\n",
            "448/448 [==============================] - 31s 69ms/step - loss: 0.9022 - accuracy: 0.6790 - val_loss: 1.1507 - val_accuracy: 0.6059 - lr: 7.2900e-04\n",
            "Epoch 38/100\n",
            "448/448 [==============================] - ETA: 0s - loss: 0.8708 - accuracy: 0.6907\n",
            "Epoch 38: val_loss did not improve from 1.12913\n",
            "448/448 [==============================] - 31s 69ms/step - loss: 0.8708 - accuracy: 0.6907 - val_loss: 1.2111 - val_accuracy: 0.6078 - lr: 7.2900e-04\n",
            "Epoch 39/100\n",
            "448/448 [==============================] - ETA: 0s - loss: 0.8546 - accuracy: 0.6973\n",
            "Epoch 39: val_loss did not improve from 1.12913\n",
            "448/448 [==============================] - 31s 69ms/step - loss: 0.8546 - accuracy: 0.6973 - val_loss: 1.1973 - val_accuracy: 0.6060 - lr: 6.5610e-04\n",
            "Epoch 40/100\n",
            "448/448 [==============================] - ETA: 0s - loss: 0.8293 - accuracy: 0.7092\n",
            "Epoch 40: val_loss did not improve from 1.12913\n",
            "448/448 [==============================] - 31s 69ms/step - loss: 0.8293 - accuracy: 0.7092 - val_loss: 1.2657 - val_accuracy: 0.6000 - lr: 6.5610e-04\n",
            "Epoch 41/100\n",
            "448/448 [==============================] - ETA: 0s - loss: 0.8072 - accuracy: 0.7152\n",
            "Epoch 41: val_loss did not improve from 1.12913\n",
            "448/448 [==============================] - 31s 69ms/step - loss: 0.8072 - accuracy: 0.7152 - val_loss: 1.2647 - val_accuracy: 0.6053 - lr: 6.5610e-04\n",
            "Epoch 42/100\n",
            "448/448 [==============================] - ETA: 0s - loss: 0.7825 - accuracy: 0.7256\n",
            "Epoch 42: val_loss did not improve from 1.12913\n",
            "448/448 [==============================] - 31s 69ms/step - loss: 0.7825 - accuracy: 0.7256 - val_loss: 1.3192 - val_accuracy: 0.5991 - lr: 5.9049e-04\n",
            "Epoch 43/100\n",
            "448/448 [==============================] - ETA: 0s - loss: 0.7636 - accuracy: 0.7321\n",
            "Epoch 43: val_loss did not improve from 1.12913\n",
            "448/448 [==============================] - 31s 69ms/step - loss: 0.7636 - accuracy: 0.7321 - val_loss: 1.2993 - val_accuracy: 0.6170 - lr: 5.9049e-04\n",
            "Epoch 44/100\n",
            "448/448 [==============================] - ETA: 0s - loss: 0.7445 - accuracy: 0.7368\n",
            "Epoch 44: val_loss did not improve from 1.12913\n",
            "448/448 [==============================] - 31s 69ms/step - loss: 0.7445 - accuracy: 0.7368 - val_loss: 1.3443 - val_accuracy: 0.6172 - lr: 5.9049e-04\n",
            "Epoch 45/100\n",
            "448/448 [==============================] - ETA: 0s - loss: 0.7221 - accuracy: 0.7499\n",
            "Epoch 45: val_loss did not improve from 1.12913\n",
            "448/448 [==============================] - 31s 68ms/step - loss: 0.7221 - accuracy: 0.7499 - val_loss: 1.2927 - val_accuracy: 0.6225 - lr: 5.3144e-04\n",
            "Epoch 46/100\n",
            "448/448 [==============================] - ETA: 0s - loss: 0.7044 - accuracy: 0.7555\n",
            "Epoch 46: val_loss did not improve from 1.12913\n",
            "448/448 [==============================] - 31s 69ms/step - loss: 0.7044 - accuracy: 0.7555 - val_loss: 1.3081 - val_accuracy: 0.6179 - lr: 5.3144e-04\n",
            "Epoch 47/100\n",
            "448/448 [==============================] - ETA: 0s - loss: 0.6788 - accuracy: 0.7652\n",
            "Epoch 47: val_loss did not improve from 1.12913\n",
            "448/448 [==============================] - 31s 69ms/step - loss: 0.6788 - accuracy: 0.7652 - val_loss: 1.4340 - val_accuracy: 0.6328 - lr: 5.3144e-04\n",
            "Epoch 48/100\n",
            "448/448 [==============================] - ETA: 0s - loss: 0.6554 - accuracy: 0.7757\n",
            "Epoch 48: val_loss did not improve from 1.12913\n",
            "448/448 [==============================] - 31s 69ms/step - loss: 0.6554 - accuracy: 0.7757 - val_loss: 1.4422 - val_accuracy: 0.6282 - lr: 4.7830e-04\n",
            "Epoch 49/100\n",
            "448/448 [==============================] - ETA: 0s - loss: 0.6375 - accuracy: 0.7847\n",
            "Epoch 49: val_loss did not improve from 1.12913\n",
            "448/448 [==============================] - 31s 69ms/step - loss: 0.6375 - accuracy: 0.7847 - val_loss: 1.3484 - val_accuracy: 0.6350 - lr: 4.7830e-04\n",
            "Epoch 50/100\n",
            "448/448 [==============================] - ETA: 0s - loss: 0.6249 - accuracy: 0.7839\n",
            "Epoch 50: val_loss did not improve from 1.12913\n",
            "448/448 [==============================] - 31s 69ms/step - loss: 0.6249 - accuracy: 0.7839 - val_loss: 1.4424 - val_accuracy: 0.6069 - lr: 4.7830e-04\n",
            "Epoch 51/100\n",
            "448/448 [==============================] - ETA: 0s - loss: 0.6114 - accuracy: 0.7962\n",
            "Epoch 51: val_loss did not improve from 1.12913\n",
            "448/448 [==============================] - 31s 69ms/step - loss: 0.6114 - accuracy: 0.7962 - val_loss: 1.4071 - val_accuracy: 0.6282 - lr: 4.3047e-04\n",
            "Epoch 52/100\n",
            "448/448 [==============================] - ETA: 0s - loss: 0.5840 - accuracy: 0.8001\n",
            "Epoch 52: val_loss did not improve from 1.12913\n",
            "448/448 [==============================] - 31s 69ms/step - loss: 0.5840 - accuracy: 0.8001 - val_loss: 1.3879 - val_accuracy: 0.6247 - lr: 4.3047e-04\n",
            "Epoch 53/100\n",
            "448/448 [==============================] - ETA: 0s - loss: 0.5648 - accuracy: 0.8094\n",
            "Epoch 53: val_loss did not improve from 1.12913\n",
            "448/448 [==============================] - 34s 75ms/step - loss: 0.5648 - accuracy: 0.8094 - val_loss: 1.4549 - val_accuracy: 0.6366 - lr: 4.3047e-04\n",
            "Epoch 54/100\n",
            "448/448 [==============================] - ETA: 0s - loss: 0.5456 - accuracy: 0.8161\n",
            "Epoch 54: val_loss did not improve from 1.12913\n",
            "448/448 [==============================] - 31s 68ms/step - loss: 0.5456 - accuracy: 0.8161 - val_loss: 1.5024 - val_accuracy: 0.6323 - lr: 3.8742e-04\n",
            "Epoch 55/100\n",
            "448/448 [==============================] - ETA: 0s - loss: 0.5277 - accuracy: 0.8219\n",
            "Epoch 55: val_loss did not improve from 1.12913\n",
            "448/448 [==============================] - 33s 74ms/step - loss: 0.5277 - accuracy: 0.8219 - val_loss: 1.5066 - val_accuracy: 0.6362 - lr: 3.8742e-04\n",
            "Epoch 56/100\n",
            "448/448 [==============================] - ETA: 0s - loss: 0.5252 - accuracy: 0.8231\n",
            "Epoch 56: val_loss did not improve from 1.12913\n",
            "448/448 [==============================] - 31s 69ms/step - loss: 0.5252 - accuracy: 0.8231 - val_loss: 1.5272 - val_accuracy: 0.6288 - lr: 3.8742e-04\n",
            "Epoch 57/100\n",
            "448/448 [==============================] - ETA: 0s - loss: 0.4996 - accuracy: 0.8326\n",
            "Epoch 57: val_loss did not improve from 1.12913\n",
            "448/448 [==============================] - 31s 69ms/step - loss: 0.4996 - accuracy: 0.8326 - val_loss: 1.5237 - val_accuracy: 0.6408 - lr: 3.4868e-04\n",
            "Epoch 58/100\n",
            "448/448 [==============================] - ETA: 0s - loss: 0.4893 - accuracy: 0.8362\n",
            "Epoch 58: val_loss did not improve from 1.12913\n",
            "448/448 [==============================] - 31s 68ms/step - loss: 0.4893 - accuracy: 0.8362 - val_loss: 1.5953 - val_accuracy: 0.6348 - lr: 3.4868e-04\n",
            "Epoch 59/100\n",
            "448/448 [==============================] - ETA: 0s - loss: 0.4737 - accuracy: 0.8423\n",
            "Epoch 59: val_loss did not improve from 1.12913\n",
            "448/448 [==============================] - 31s 69ms/step - loss: 0.4737 - accuracy: 0.8423 - val_loss: 1.6299 - val_accuracy: 0.6402 - lr: 3.4868e-04\n",
            "Epoch 60/100\n",
            "448/448 [==============================] - ETA: 0s - loss: 0.4526 - accuracy: 0.8504\n",
            "Epoch 60: val_loss did not improve from 1.12913\n",
            "448/448 [==============================] - 31s 68ms/step - loss: 0.4526 - accuracy: 0.8504 - val_loss: 1.6787 - val_accuracy: 0.6385 - lr: 3.1381e-04\n",
            "Epoch 61/100\n",
            "448/448 [==============================] - ETA: 0s - loss: 0.4449 - accuracy: 0.8510\n",
            "Epoch 61: val_loss did not improve from 1.12913\n",
            "448/448 [==============================] - 31s 69ms/step - loss: 0.4449 - accuracy: 0.8510 - val_loss: 1.6287 - val_accuracy: 0.6410 - lr: 3.1381e-04\n",
            "Epoch 62/100\n",
            "448/448 [==============================] - ETA: 0s - loss: 0.4385 - accuracy: 0.8571\n",
            "Epoch 62: val_loss did not improve from 1.12913\n",
            "448/448 [==============================] - 31s 69ms/step - loss: 0.4385 - accuracy: 0.8571 - val_loss: 1.6978 - val_accuracy: 0.6392 - lr: 3.1381e-04\n",
            "Epoch 63/100\n",
            "448/448 [==============================] - ETA: 0s - loss: 0.4241 - accuracy: 0.8612\n",
            "Epoch 63: val_loss did not improve from 1.12913\n",
            "448/448 [==============================] - 31s 69ms/step - loss: 0.4241 - accuracy: 0.8612 - val_loss: 1.6513 - val_accuracy: 0.6405 - lr: 2.8243e-04\n",
            "Epoch 64/100\n",
            "448/448 [==============================] - ETA: 0s - loss: 0.4047 - accuracy: 0.8650\n",
            "Epoch 64: val_loss did not improve from 1.12913\n",
            "448/448 [==============================] - 31s 69ms/step - loss: 0.4047 - accuracy: 0.8650 - val_loss: 1.7140 - val_accuracy: 0.6387 - lr: 2.8243e-04\n",
            "Epoch 65/100\n",
            "448/448 [==============================] - ETA: 0s - loss: 0.3906 - accuracy: 0.8733\n",
            "Epoch 65: val_loss did not improve from 1.12913\n",
            "448/448 [==============================] - 31s 68ms/step - loss: 0.3906 - accuracy: 0.8733 - val_loss: 1.7464 - val_accuracy: 0.6468 - lr: 2.8243e-04\n",
            "Epoch 66/100\n",
            "448/448 [==============================] - ETA: 0s - loss: 0.3919 - accuracy: 0.8726\n",
            "Epoch 66: val_loss did not improve from 1.12913\n",
            "448/448 [==============================] - 31s 69ms/step - loss: 0.3919 - accuracy: 0.8726 - val_loss: 1.7073 - val_accuracy: 0.6436 - lr: 2.5419e-04\n",
            "Epoch 67/100\n",
            "448/448 [==============================] - ETA: 0s - loss: 0.3819 - accuracy: 0.8750\n",
            "Epoch 67: val_loss did not improve from 1.12913\n",
            "448/448 [==============================] - 31s 69ms/step - loss: 0.3819 - accuracy: 0.8750 - val_loss: 1.7023 - val_accuracy: 0.6424 - lr: 2.5419e-04\n",
            "Epoch 68/100\n",
            "448/448 [==============================] - ETA: 0s - loss: 0.3591 - accuracy: 0.8814\n",
            "Epoch 68: val_loss did not improve from 1.12913\n",
            "448/448 [==============================] - 31s 69ms/step - loss: 0.3591 - accuracy: 0.8814 - val_loss: 1.7660 - val_accuracy: 0.6416 - lr: 2.5419e-04\n",
            "Epoch 69/100\n",
            "448/448 [==============================] - ETA: 0s - loss: 0.3539 - accuracy: 0.8848\n",
            "Epoch 69: val_loss did not improve from 1.12913\n",
            "448/448 [==============================] - 31s 69ms/step - loss: 0.3539 - accuracy: 0.8848 - val_loss: 1.8171 - val_accuracy: 0.6448 - lr: 2.2877e-04\n",
            "Epoch 70/100\n",
            "448/448 [==============================] - ETA: 0s - loss: 0.3463 - accuracy: 0.8892\n",
            "Epoch 70: val_loss did not improve from 1.12913\n",
            "448/448 [==============================] - 31s 69ms/step - loss: 0.3463 - accuracy: 0.8892 - val_loss: 1.9049 - val_accuracy: 0.6436 - lr: 2.2877e-04\n",
            "Epoch 71/100\n",
            "448/448 [==============================] - ETA: 0s - loss: 0.3353 - accuracy: 0.8924\n",
            "Epoch 71: val_loss did not improve from 1.12913\n",
            "448/448 [==============================] - 31s 69ms/step - loss: 0.3353 - accuracy: 0.8924 - val_loss: 1.9473 - val_accuracy: 0.6431 - lr: 2.2877e-04\n"
          ]
        }
      ]
    },
    {
      "cell_type": "code",
      "source": [
        "history.history\n"
      ],
      "metadata": {
        "colab": {
          "base_uri": "https://localhost:8080/"
        },
        "id": "REPa3YCbmaY7",
        "outputId": "f546c819-0a40-4121-aebc-ac7f84660d06"
      },
      "execution_count": 22,
      "outputs": [
        {
          "output_type": "execute_result",
          "data": {
            "text/plain": [
              "{'accuracy': [0.25145748257637024,\n",
              "  0.25068947672843933,\n",
              "  0.2522604167461395,\n",
              "  0.2687729001045227,\n",
              "  0.2857392132282257,\n",
              "  0.29586315155029297,\n",
              "  0.31499388813972473,\n",
              "  0.35276663303375244,\n",
              "  0.3881305754184723,\n",
              "  0.409949392080307,\n",
              "  0.4218188226222992,\n",
              "  0.4254145622253418,\n",
              "  0.4353639483451843,\n",
              "  0.4433583617210388,\n",
              "  0.4432187080383301,\n",
              "  0.44608134031295776,\n",
              "  0.45763659477233887,\n",
              "  0.47519636154174805,\n",
              "  0.49450165033340454,\n",
              "  0.5090242624282837,\n",
              "  0.5222551822662354,\n",
              "  0.5376854538917542,\n",
              "  0.543690025806427,\n",
              "  0.5556990504264832,\n",
              "  0.5682318210601807,\n",
              "  0.5762611031532288,\n",
              "  0.5854774117469788,\n",
              "  0.5931575894355774,\n",
              "  0.6004887223243713,\n",
              "  0.6134054660797119,\n",
              "  0.6227613687515259,\n",
              "  0.6331645846366882,\n",
              "  0.6445103883743286,\n",
              "  0.6491534113883972,\n",
              "  0.658963143825531,\n",
              "  0.6733461618423462,\n",
              "  0.6790015697479248,\n",
              "  0.6906964778900146,\n",
              "  0.6973294019699097,\n",
              "  0.7091639041900635,\n",
              "  0.7152382731437683,\n",
              "  0.7255716323852539,\n",
              "  0.7320998311042786,\n",
              "  0.7368127107620239,\n",
              "  0.7499389052391052,\n",
              "  0.7555245161056519,\n",
              "  0.7651597261428833,\n",
              "  0.7757025361061096,\n",
              "  0.7846744656562805,\n",
              "  0.7839413285255432,\n",
              "  0.7961598634719849,\n",
              "  0.8001396656036377,\n",
              "  0.8093559145927429,\n",
              "  0.8161284923553467,\n",
              "  0.8218886256217957,\n",
              "  0.8231453895568848,\n",
              "  0.8326409459114075,\n",
              "  0.8362017869949341,\n",
              "  0.8423110246658325,\n",
              "  0.8503752946853638,\n",
              "  0.8510385751724243,\n",
              "  0.8571478724479675,\n",
              "  0.8611974120140076,\n",
              "  0.8649677038192749,\n",
              "  0.8732762932777405,\n",
              "  0.8726130127906799,\n",
              "  0.8750218152999878,\n",
              "  0.8813754320144653,\n",
              "  0.8848315477371216,\n",
              "  0.8891603946685791,\n",
              "  0.8924070596694946],\n",
              " 'loss': [1.814378023147583,\n",
              "  1.8081437349319458,\n",
              "  1.7986595630645752,\n",
              "  1.7763309478759766,\n",
              "  1.7467643022537231,\n",
              "  1.723662257194519,\n",
              "  1.6685690879821777,\n",
              "  1.6009868383407593,\n",
              "  1.5368356704711914,\n",
              "  1.5015952587127686,\n",
              "  1.460885763168335,\n",
              "  1.4436794519424438,\n",
              "  1.4088809490203857,\n",
              "  1.3970375061035156,\n",
              "  1.3769490718841553,\n",
              "  1.3649317026138306,\n",
              "  1.344012975692749,\n",
              "  1.317594289779663,\n",
              "  1.3044183254241943,\n",
              "  1.274369478225708,\n",
              "  1.246112585067749,\n",
              "  1.2248650789260864,\n",
              "  1.2049014568328857,\n",
              "  1.1775622367858887,\n",
              "  1.156519889831543,\n",
              "  1.132027268409729,\n",
              "  1.1193506717681885,\n",
              "  1.0931898355484009,\n",
              "  1.0760631561279297,\n",
              "  1.0556601285934448,\n",
              "  1.0333458185195923,\n",
              "  1.0091818571090698,\n",
              "  0.9809052348136902,\n",
              "  0.9678305387496948,\n",
              "  0.9497858881950378,\n",
              "  0.9172105193138123,\n",
              "  0.9022233486175537,\n",
              "  0.8708335757255554,\n",
              "  0.8546313047409058,\n",
              "  0.8293314576148987,\n",
              "  0.8071836829185486,\n",
              "  0.7825466394424438,\n",
              "  0.7635948657989502,\n",
              "  0.744543194770813,\n",
              "  0.7220718264579773,\n",
              "  0.7044311165809631,\n",
              "  0.6787540912628174,\n",
              "  0.6554040312767029,\n",
              "  0.6374745965003967,\n",
              "  0.6249457001686096,\n",
              "  0.6113641262054443,\n",
              "  0.5840420126914978,\n",
              "  0.5648061037063599,\n",
              "  0.545605480670929,\n",
              "  0.5277133584022522,\n",
              "  0.5251612663269043,\n",
              "  0.4995516240596771,\n",
              "  0.4892774224281311,\n",
              "  0.47369328141212463,\n",
              "  0.45256298780441284,\n",
              "  0.4448838233947754,\n",
              "  0.43846452236175537,\n",
              "  0.4241023361682892,\n",
              "  0.4047369658946991,\n",
              "  0.3906285762786865,\n",
              "  0.39190855622291565,\n",
              "  0.38186997175216675,\n",
              "  0.35909777879714966,\n",
              "  0.3539450764656067,\n",
              "  0.346279114484787,\n",
              "  0.3353363275527954],\n",
              " 'lr': [0.001,\n",
              "  0.001,\n",
              "  0.001,\n",
              "  0.001,\n",
              "  0.001,\n",
              "  0.001,\n",
              "  0.001,\n",
              "  0.001,\n",
              "  0.001,\n",
              "  0.001,\n",
              "  0.001,\n",
              "  0.001,\n",
              "  0.001,\n",
              "  0.001,\n",
              "  0.001,\n",
              "  0.001,\n",
              "  0.001,\n",
              "  0.00090000004,\n",
              "  0.00090000004,\n",
              "  0.00090000004,\n",
              "  0.00090000004,\n",
              "  0.00090000004,\n",
              "  0.00090000004,\n",
              "  0.00090000004,\n",
              "  0.00090000004,\n",
              "  0.00090000004,\n",
              "  0.00090000004,\n",
              "  0.00090000004,\n",
              "  0.00090000004,\n",
              "  0.00090000004,\n",
              "  0.00081000006,\n",
              "  0.00081000006,\n",
              "  0.00081000006,\n",
              "  0.00081000006,\n",
              "  0.00081000006,\n",
              "  0.0007290001,\n",
              "  0.0007290001,\n",
              "  0.0007290001,\n",
              "  0.00065610005,\n",
              "  0.00065610005,\n",
              "  0.00065610005,\n",
              "  0.00059049006,\n",
              "  0.00059049006,\n",
              "  0.00059049006,\n",
              "  0.00053144107,\n",
              "  0.00053144107,\n",
              "  0.00053144107,\n",
              "  0.00047829695,\n",
              "  0.00047829695,\n",
              "  0.00047829695,\n",
              "  0.00043046725,\n",
              "  0.00043046725,\n",
              "  0.00043046725,\n",
              "  0.00038742053,\n",
              "  0.00038742053,\n",
              "  0.00038742053,\n",
              "  0.00034867847,\n",
              "  0.00034867847,\n",
              "  0.00034867847,\n",
              "  0.00031381063,\n",
              "  0.00031381063,\n",
              "  0.00031381063,\n",
              "  0.00028242957,\n",
              "  0.00028242957,\n",
              "  0.00028242957,\n",
              "  0.0002541866,\n",
              "  0.0002541866,\n",
              "  0.0002541866,\n",
              "  0.00022876794,\n",
              "  0.00022876794,\n",
              "  0.00022876794],\n",
              " 'val_accuracy': [0.2483258992433548,\n",
              "  0.2474888414144516,\n",
              "  0.271484375,\n",
              "  0.2741350531578064,\n",
              "  0.2864118218421936,\n",
              "  0.3017578125,\n",
              "  0.3550502359867096,\n",
              "  0.4119698703289032,\n",
              "  0.4077846109867096,\n",
              "  0.4100167453289032,\n",
              "  0.4287109375,\n",
              "  0.4217354953289032,\n",
              "  0.4232700765132904,\n",
              "  0.4481026828289032,\n",
              "  0.427734375,\n",
              "  0.4428013265132904,\n",
              "  0.3748604953289032,\n",
              "  0.4755859375,\n",
              "  0.4926060140132904,\n",
              "  0.5262276530265808,\n",
              "  0.5041852593421936,\n",
              "  0.5382254719734192,\n",
              "  0.5376673936843872,\n",
              "  0.5496651530265808,\n",
              "  0.5354352593421936,\n",
              "  0.5439453125,\n",
              "  0.5698939561843872,\n",
              "  0.5523158311843872,\n",
              "  0.5753348469734192,\n",
              "  0.5559430718421936,\n",
              "  0.5591517686843872,\n",
              "  0.5944475531578064,\n",
              "  0.5973772406578064,\n",
              "  0.5940290093421936,\n",
              "  0.6018415093421936,\n",
              "  0.5753348469734192,\n",
              "  0.6058872938156128,\n",
              "  0.6078404188156128,\n",
              "  0.6060267686843872,\n",
              "  0.6000279188156128,\n",
              "  0.6053292155265808,\n",
              "  0.5990513563156128,\n",
              "  0.6170479655265808,\n",
              "  0.6171875,\n",
              "  0.6224888563156128,\n",
              "  0.6178850531578064,\n",
              "  0.6328125,\n",
              "  0.6282086968421936,\n",
              "  0.6350446343421936,\n",
              "  0.6068638563156128,\n",
              "  0.6282086968421936,\n",
              "  0.6247209906578064,\n",
              "  0.6365792155265808,\n",
              "  0.6322544813156128,\n",
              "  0.6361607313156128,\n",
              "  0.6287667155265808,\n",
              "  0.6407645344734192,\n",
              "  0.634765625,\n",
              "  0.6402064561843872,\n",
              "  0.6385323405265808,\n",
              "  0.6410435438156128,\n",
              "  0.6392298936843872,\n",
              "  0.6404854655265808,\n",
              "  0.638671875,\n",
              "  0.6467633843421936,\n",
              "  0.6435546875,\n",
              "  0.6424385905265808,\n",
              "  0.6416015625,\n",
              "  0.6448102593421936,\n",
              "  0.6435546875,\n",
              "  0.6431361436843872],\n",
              " 'val_loss': [1.8050063848495483,\n",
              "  1.8007192611694336,\n",
              "  1.7858049869537354,\n",
              "  1.775966763496399,\n",
              "  1.7350702285766602,\n",
              "  1.7015886306762695,\n",
              "  1.631324052810669,\n",
              "  1.513148546218872,\n",
              "  1.477447748184204,\n",
              "  1.4779422283172607,\n",
              "  1.4243602752685547,\n",
              "  1.4318989515304565,\n",
              "  1.42621648311615,\n",
              "  1.341355562210083,\n",
              "  1.397029995918274,\n",
              "  1.3985888957977295,\n",
              "  1.534394383430481,\n",
              "  1.344298005104065,\n",
              "  1.3140347003936768,\n",
              "  1.2608386278152466,\n",
              "  1.3168267011642456,\n",
              "  1.2543119192123413,\n",
              "  1.253579020500183,\n",
              "  1.2117202281951904,\n",
              "  1.2234036922454834,\n",
              "  1.2208583354949951,\n",
              "  1.165513277053833,\n",
              "  1.2257201671600342,\n",
              "  1.166703462600708,\n",
              "  1.2574965953826904,\n",
              "  1.1957447528839111,\n",
              "  1.1291309595108032,\n",
              "  1.1570957899093628,\n",
              "  1.1928428411483765,\n",
              "  1.1618868112564087,\n",
              "  1.2705312967300415,\n",
              "  1.1506694555282593,\n",
              "  1.2111270427703857,\n",
              "  1.1972568035125732,\n",
              "  1.2656641006469727,\n",
              "  1.264669418334961,\n",
              "  1.3191856145858765,\n",
              "  1.299312949180603,\n",
              "  1.3442639112472534,\n",
              "  1.2927459478378296,\n",
              "  1.3081343173980713,\n",
              "  1.4340089559555054,\n",
              "  1.4421768188476562,\n",
              "  1.3484123945236206,\n",
              "  1.4424182176589966,\n",
              "  1.4070866107940674,\n",
              "  1.3879281282424927,\n",
              "  1.454935073852539,\n",
              "  1.5024254322052002,\n",
              "  1.5065661668777466,\n",
              "  1.527166485786438,\n",
              "  1.5236741304397583,\n",
              "  1.5952661037445068,\n",
              "  1.629854440689087,\n",
              "  1.6786843538284302,\n",
              "  1.6287262439727783,\n",
              "  1.6978282928466797,\n",
              "  1.6513320207595825,\n",
              "  1.7139664888381958,\n",
              "  1.746367335319519,\n",
              "  1.7073112726211548,\n",
              "  1.7022783756256104,\n",
              "  1.7660123109817505,\n",
              "  1.8170756101608276,\n",
              "  1.9048782587051392,\n",
              "  1.947280764579773]}"
            ]
          },
          "metadata": {},
          "execution_count": 22
        }
      ]
    },
    {
      "cell_type": "code",
      "source": [
        "new_model = tf.keras.models.load_model('./model.h5')\n"
      ],
      "metadata": {
        "id": "QIGROuUFxgbg"
      },
      "execution_count": 23,
      "outputs": []
    },
    {
      "cell_type": "code",
      "source": [
        "\n",
        "import cv2\n",
        "import tensorflow as tf\n",
        "Categories = ['sad']\n",
        "\n",
        "def prepare(filepath):\n",
        "    Img_size = 48\n",
        "    img_array = cv2.imread(filepath, cv2.IMREAD_GRAYSCALE)\n",
        "    new_array = cv2.resize(img_array,(Img_size,Img_size))\n",
        "    new_array=new_array/255.0\n",
        "    print(new_array)\n",
        "    return new_array.reshape(-1, Img_size, Img_size, 1)\n",
        "prediction = new_model.predict([prepare('/content/train/neutral/Training_10133788.jpg')])\n",
        "print(prediction)\n"
      ],
      "metadata": {
        "colab": {
          "base_uri": "https://localhost:8080/"
        },
        "id": "UTW5yiZExnfF",
        "outputId": "166f8f47-3e22-4569-afc6-43be8962ee81"
      },
      "execution_count": 27,
      "outputs": [
        {
          "output_type": "stream",
          "name": "stdout",
          "text": [
            "[[0.77647059 0.8        0.47843137 ... 0.36862745 0.23137255 0.16470588]\n",
            " [0.74509804 0.82352941 0.37647059 ... 0.27058824 0.35686275 0.3372549 ]\n",
            " [0.80784314 0.74117647 0.23137255 ... 0.03529412 0.08627451 0.21960784]\n",
            " ...\n",
            " [0.55686275 0.48627451 0.46666667 ... 0.13333333 0.1254902  0.12941176]\n",
            " [0.52941176 0.4745098  0.42745098 ... 0.13333333 0.1372549  0.15294118]\n",
            " [0.50588235 0.41960784 0.4        ... 0.1372549  0.16470588 0.15686275]]\n",
            "[[8.1889331e-02 4.3954464e-04 7.2076105e-02 2.8514510e-02 6.2224483e-01\n",
            "  1.8544300e-01 9.3927579e-03]]\n"
          ]
        }
      ]
    },
    {
      "cell_type": "code",
      "source": [
        "plt.style.use('dark_background')\n",
        "\n",
        "plt.figure(figsize=(20,10))\n",
        "plt.subplot(1, 2, 1)\n",
        "plt.suptitle('Optimizer : Adam', fontsize=10)\n",
        "plt.ylabel('Loss', fontsize=16)\n",
        "plt.plot(history.history['loss'], label='Training Loss')\n",
        "plt.plot(history.history['val_loss'], label='Validation Loss')\n",
        "plt.legend(loc='upper right')\n",
        "\n",
        "plt.subplot(1, 2, 2)\n",
        "plt.ylabel('Accuracy', fontsize=16)\n",
        "plt.plot(history.history['accuracy'], label='Training Accuracy')\n",
        "plt.plot(history.history['val_accuracy'], label='Validation Accuracy')\n",
        "plt.legend(loc='lower right')\n",
        "plt.show()"
      ],
      "metadata": {
        "colab": {
          "base_uri": "https://localhost:8080/",
          "height": 521
        },
        "id": "SkFt70ULyHmQ",
        "outputId": "5dd408ec-d699-40b4-cbdb-319d6d92738a"
      },
      "execution_count": 28,
      "outputs": [
        {
          "output_type": "display_data",
          "data": {
            "text/plain": [
              "<Figure size 1440x720 with 2 Axes>"
            ],
            "image/png": "[encoded data removed]"
          },
          "metadata": {}
        }
      ]
    },
    {
      "cell_type": "code",
      "source": [
        "Y_pred = new_model.predict_generator(test_set)\n",
        "y_pred = np.argmax(Y_pred, axis=1)\n",
        "x = confusion_matrix(test_set.classes, y_pred)\n",
        "a1 = x.sum(axis=1)\n",
        "a2 = x.diagonal()\n",
        "print(x)\n",
        "print(a2)\n",
        "print(a1)\n",
        "print(a2/a1)"
      ],
      "metadata": {
        "colab": {
          "base_uri": "https://localhost:8080/"
        },
        "id": "USxmJjwHyKgY",
        "outputId": "d3d4c980-fca7-4e80-af9a-bda65c36a51a"
      },
      "execution_count": 29,
      "outputs": [
        {
          "output_type": "stream",
          "name": "stderr",
          "text": [
            "/usr/local/lib/python3.7/dist-packages/ipykernel_launcher.py:1: UserWarning: `Model.predict_generator` is deprecated and will be removed in a future version. Please use `Model.predict`, which supports generators.\n",
            "  \"\"\"Entry point for launching an IPython kernel.\n"
          ]
        },
        {
          "output_type": "stream",
          "name": "stdout",
          "text": [
            "[[ 407    0  121   56  130  226   18]\n",
            " [  83    0   10    2    5   11    0]\n",
            " [ 135    0  294   51  172  279   93]\n",
            " [  18    0   44 1550   83   42   37]\n",
            " [  35    0   64  141  804  183    6]\n",
            " [  81    0  109   97  328  614   18]\n",
            " [   9    0  126   57   20   19  600]]\n",
            "[ 407    0  294 1550  804  614  600]\n",
            "[ 958  111 1024 1774 1233 1247  831]\n",
            "[0.42484342 0.         0.28710938 0.87373168 0.65206813 0.49238172\n",
            " 0.72202166]\n"
          ]
        }
      ]
    },
    {
      "cell_type": "code",
      "source": [
        "Y_pred = new_model.predict_generator(train_set)\n",
        "y_pred = np.argmax(Y_pred, axis=1)\n",
        "x = confusion_matrix(train_set.classes, y_pred)\n",
        "a1 = x.sum(axis=1)\n",
        "a2 = x.diagonal()\n",
        "print(x)\n",
        "print(a2)\n",
        "print(a1)\n",
        "print(a2/a1)"
      ],
      "metadata": {
        "colab": {
          "base_uri": "https://localhost:8080/"
        },
        "id": "kGjp8B7cyMr9",
        "outputId": "9433f0a5-99ce-417d-d14e-301a045f9643"
      },
      "execution_count": 30,
      "outputs": [
        {
          "output_type": "stream",
          "name": "stderr",
          "text": [
            "/usr/local/lib/python3.7/dist-packages/ipykernel_launcher.py:1: UserWarning: `Model.predict_generator` is deprecated and will be removed in a future version. Please use `Model.predict`, which supports generators.\n",
            "  \"\"\"Entry point for launching an IPython kernel.\n"
          ]
        },
        {
          "output_type": "stream",
          "name": "stdout",
          "text": [
            "[[ 491    0  386 1093  799  803  423]\n",
            " [  51    0   48  116   90   87   44]\n",
            " [ 480    0  374 1114  906  834  389]\n",
            " [ 792    0  662 1946 1568 1475  772]\n",
            " [ 556    0  473 1359 1033  967  577]\n",
            " [ 558    0  464 1328 1037  917  526]\n",
            " [ 396    0  265  838  653  673  346]]\n",
            "[ 491    0  374 1946 1033  917  346]\n",
            "[3995  436 4097 7215 4965 4830 3171]\n",
            "[0.12290363 0.         0.09128631 0.26971587 0.20805639 0.18985507\n",
            " 0.10911384]\n"
          ]
        }
      ]
    }
  ]
}